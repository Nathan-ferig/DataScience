{
 "cells": [
  {
   "cell_type": "markdown",
   "id": "1a87d98a",
   "metadata": {},
   "source": [
    "<strong>Índice</strong>\n",
    "\n",
    "1. Carregando Dataset\n",
    "1. Amostragem aleatória simples\n",
    "2. Amostragem sistemática\n",
    "3. Amostragem por grupos\n",
    "4. Amostragem estratificada\n",
    "5. Amostragem de reservatório\n",
    "6. Dados desbalanceados\n",
    "    1. Classificação\n",
    "    2. Naive Bayes\n",
    "    3. Undersampling\n",
    "    4. Oversampling"
   ]
  },
  {
   "cell_type": "markdown",
   "id": "ad95220f",
   "metadata": {},
   "source": [
    "<strong>0. Carregando o nb_mypy</strong> \n",
    "<br>A extensão nb_mypy é responsável pela checagem de tipos nesse notebook. \n",
    "<br>É uma boa prática usar as chamadas type hints para auxiliar na documentação e no debug do código.\n",
    "<br> <strong>PS:</strong> Note que ativar essa extensão irá deixar a performance do notebook consideravelmente mais lenta."
   ]
  },
  {
   "cell_type": "code",
   "execution_count": 1,
   "id": "11ab20d2",
   "metadata": {
    "scrolled": true
   },
   "outputs": [
    {
     "data": {
      "text/plain": [
       "'Load nb_mypy to enable type hints in this notebook'"
      ]
     },
     "execution_count": 1,
     "metadata": {},
     "output_type": "execute_result"
    }
   ],
   "source": [
    "'''Load nb_mypy to enable type hints in this notebook'''\n",
    "#%load_ext nb_mypy"
   ]
  },
  {
   "cell_type": "code",
   "execution_count": 1,
   "id": "cb8c49e2",
   "metadata": {},
   "outputs": [
    {
     "name": "stdout",
     "output_type": "stream",
     "text": [
      "'''Retrieve all inputs executed in the current kernel section'''\n",
      "%history\n"
     ]
    }
   ],
   "source": [
    "'''Retrieve all inputs executed in the current kernel section'''\n",
    "%history"
   ]
  },
  {
   "cell_type": "markdown",
   "id": "ee7f85bd",
   "metadata": {},
   "source": [
    "<strong> 1. Carregando as Bibliotecas</strong> \n",
    "<br>Importando algumas bibliotecas que serão usadas ao longo do notebook."
   ]
  },
  {
   "cell_type": "code",
   "execution_count": 3,
   "id": "55f9cce9",
   "metadata": {},
   "outputs": [],
   "source": [
    "import pandas as pd\n",
    "import random\n",
    "import numpy as np\n",
    "\n",
    "'''import the pandas DataFrame type for use with nb_mypy extension'''\n",
    "from pandas import DataFrame"
   ]
  },
  {
   "cell_type": "markdown",
   "id": "76746dd6",
   "metadata": {},
   "source": [
    "<strong>2. Carregando o Conjunto de dados</strong>\n",
    "<br>Leitura da base de dados e algumas verificações sobre os dados carregados."
   ]
  },
  {
   "cell_type": "code",
   "execution_count": 4,
   "id": "50b9d429",
   "metadata": {},
   "outputs": [],
   "source": [
    "'''load dataset'''\n",
    "df_census_data = pd.read_csv('Bases - Curso Estatistica para Data Science\\census.csv')"
   ]
  },
  {
   "cell_type": "code",
   "execution_count": 5,
   "id": "5cb76d3e",
   "metadata": {},
   "outputs": [
    {
     "data": {
      "text/plain": [
       "(32561, 15)"
      ]
     },
     "execution_count": 5,
     "metadata": {},
     "output_type": "execute_result"
    }
   ],
   "source": [
    "'''verify dataset rows and columns number'''\n",
    "df_census_data.shape"
   ]
  },
  {
   "cell_type": "code",
   "execution_count": 6,
   "id": "ebd5f859",
   "metadata": {},
   "outputs": [
    {
     "data": {
      "text/html": [
       "<div>\n",
       "<style scoped>\n",
       "    .dataframe tbody tr th:only-of-type {\n",
       "        vertical-align: middle;\n",
       "    }\n",
       "\n",
       "    .dataframe tbody tr th {\n",
       "        vertical-align: top;\n",
       "    }\n",
       "\n",
       "    .dataframe thead th {\n",
       "        text-align: right;\n",
       "    }\n",
       "</style>\n",
       "<table border=\"1\" class=\"dataframe\">\n",
       "  <thead>\n",
       "    <tr style=\"text-align: right;\">\n",
       "      <th></th>\n",
       "      <th>age</th>\n",
       "      <th>workclass</th>\n",
       "      <th>final-weight</th>\n",
       "      <th>education</th>\n",
       "      <th>education-num</th>\n",
       "      <th>marital-status</th>\n",
       "      <th>occupation</th>\n",
       "      <th>relationship</th>\n",
       "      <th>race</th>\n",
       "      <th>sex</th>\n",
       "      <th>capital-gain</th>\n",
       "      <th>capital-loos</th>\n",
       "      <th>hour-per-week</th>\n",
       "      <th>native-country</th>\n",
       "      <th>income</th>\n",
       "    </tr>\n",
       "  </thead>\n",
       "  <tbody>\n",
       "    <tr>\n",
       "      <th>0</th>\n",
       "      <td>39</td>\n",
       "      <td>State-gov</td>\n",
       "      <td>77516</td>\n",
       "      <td>Bachelors</td>\n",
       "      <td>13</td>\n",
       "      <td>Never-married</td>\n",
       "      <td>Adm-clerical</td>\n",
       "      <td>Not-in-family</td>\n",
       "      <td>White</td>\n",
       "      <td>Male</td>\n",
       "      <td>2174</td>\n",
       "      <td>0</td>\n",
       "      <td>40</td>\n",
       "      <td>United-States</td>\n",
       "      <td>&lt;=50K</td>\n",
       "    </tr>\n",
       "    <tr>\n",
       "      <th>1</th>\n",
       "      <td>50</td>\n",
       "      <td>Self-emp-not-inc</td>\n",
       "      <td>83311</td>\n",
       "      <td>Bachelors</td>\n",
       "      <td>13</td>\n",
       "      <td>Married-civ-spouse</td>\n",
       "      <td>Exec-managerial</td>\n",
       "      <td>Husband</td>\n",
       "      <td>White</td>\n",
       "      <td>Male</td>\n",
       "      <td>0</td>\n",
       "      <td>0</td>\n",
       "      <td>13</td>\n",
       "      <td>United-States</td>\n",
       "      <td>&lt;=50K</td>\n",
       "    </tr>\n",
       "    <tr>\n",
       "      <th>2</th>\n",
       "      <td>38</td>\n",
       "      <td>Private</td>\n",
       "      <td>215646</td>\n",
       "      <td>HS-grad</td>\n",
       "      <td>9</td>\n",
       "      <td>Divorced</td>\n",
       "      <td>Handlers-cleaners</td>\n",
       "      <td>Not-in-family</td>\n",
       "      <td>White</td>\n",
       "      <td>Male</td>\n",
       "      <td>0</td>\n",
       "      <td>0</td>\n",
       "      <td>40</td>\n",
       "      <td>United-States</td>\n",
       "      <td>&lt;=50K</td>\n",
       "    </tr>\n",
       "    <tr>\n",
       "      <th>3</th>\n",
       "      <td>53</td>\n",
       "      <td>Private</td>\n",
       "      <td>234721</td>\n",
       "      <td>11th</td>\n",
       "      <td>7</td>\n",
       "      <td>Married-civ-spouse</td>\n",
       "      <td>Handlers-cleaners</td>\n",
       "      <td>Husband</td>\n",
       "      <td>Black</td>\n",
       "      <td>Male</td>\n",
       "      <td>0</td>\n",
       "      <td>0</td>\n",
       "      <td>40</td>\n",
       "      <td>United-States</td>\n",
       "      <td>&lt;=50K</td>\n",
       "    </tr>\n",
       "    <tr>\n",
       "      <th>4</th>\n",
       "      <td>28</td>\n",
       "      <td>Private</td>\n",
       "      <td>338409</td>\n",
       "      <td>Bachelors</td>\n",
       "      <td>13</td>\n",
       "      <td>Married-civ-spouse</td>\n",
       "      <td>Prof-specialty</td>\n",
       "      <td>Wife</td>\n",
       "      <td>Black</td>\n",
       "      <td>Female</td>\n",
       "      <td>0</td>\n",
       "      <td>0</td>\n",
       "      <td>40</td>\n",
       "      <td>Cuba</td>\n",
       "      <td>&lt;=50K</td>\n",
       "    </tr>\n",
       "  </tbody>\n",
       "</table>\n",
       "</div>"
      ],
      "text/plain": [
       "   age          workclass  final-weight   education  education-num  \\\n",
       "0   39          State-gov         77516   Bachelors             13   \n",
       "1   50   Self-emp-not-inc         83311   Bachelors             13   \n",
       "2   38            Private        215646     HS-grad              9   \n",
       "3   53            Private        234721        11th              7   \n",
       "4   28            Private        338409   Bachelors             13   \n",
       "\n",
       "        marital-status          occupation    relationship    race      sex  \\\n",
       "0        Never-married        Adm-clerical   Not-in-family   White     Male   \n",
       "1   Married-civ-spouse     Exec-managerial         Husband   White     Male   \n",
       "2             Divorced   Handlers-cleaners   Not-in-family   White     Male   \n",
       "3   Married-civ-spouse   Handlers-cleaners         Husband   Black     Male   \n",
       "4   Married-civ-spouse      Prof-specialty            Wife   Black   Female   \n",
       "\n",
       "   capital-gain  capital-loos  hour-per-week  native-country  income  \n",
       "0          2174             0             40   United-States   <=50K  \n",
       "1             0             0             13   United-States   <=50K  \n",
       "2             0             0             40   United-States   <=50K  \n",
       "3             0             0             40   United-States   <=50K  \n",
       "4             0             0             40            Cuba   <=50K  "
      ]
     },
     "execution_count": 6,
     "metadata": {},
     "output_type": "execute_result"
    }
   ],
   "source": [
    "'''checking the first rows from the dataset so we can take a glance at the data we are working with'''\n",
    "df_census_data.head()"
   ]
  },
  {
   "cell_type": "code",
   "execution_count": 7,
   "id": "3ab5660e",
   "metadata": {},
   "outputs": [
    {
     "data": {
      "text/plain": [
       "age               0\n",
       "workclass         0\n",
       "final-weight      0\n",
       "education         0\n",
       "education-num     0\n",
       "marital-status    0\n",
       "occupation        0\n",
       "relationship      0\n",
       "race              0\n",
       "sex               0\n",
       "capital-gain      0\n",
       "capital-loos      0\n",
       "hour-per-week     0\n",
       "native-country    0\n",
       "income            0\n",
       "dtype: int64"
      ]
     },
     "execution_count": 7,
     "metadata": {},
     "output_type": "execute_result"
    }
   ],
   "source": [
    "'''checking for null values'''\n",
    "df_census_data.isnull().sum()"
   ]
  },
  {
   "cell_type": "code",
   "execution_count": 8,
   "id": "5da9a3e3",
   "metadata": {},
   "outputs": [
    {
     "data": {
      "text/plain": [
       "age                  73\n",
       "workclass             9\n",
       "final-weight      21648\n",
       "education            16\n",
       "education-num        16\n",
       "marital-status        7\n",
       "occupation           15\n",
       "relationship          6\n",
       "race                  5\n",
       "sex                   2\n",
       "capital-gain        119\n",
       "capital-loos         92\n",
       "hour-per-week        94\n",
       "native-country       42\n",
       "income                2\n",
       "dtype: int64"
      ]
     },
     "execution_count": 8,
     "metadata": {},
     "output_type": "execute_result"
    }
   ],
   "source": [
    "'''how many unique values in each column?'''\n",
    "df_census_data.nunique()"
   ]
  },
  {
   "cell_type": "markdown",
   "id": "8b4edb7c",
   "metadata": {},
   "source": [
    "<strong>3. Avançando na análise</strong>\n",
    "<br>Agora que já sabemos quantos valores distintos existem em cada coluna, podemos listar quais valores são esses. Essa Informação pode ser útil para conhecer os diferentes valores que cada dimensão da base de dados pode assumir e, com essa informação em mãos, podemos pensar nos diferentes tipos de análises que podemos fazer a partir desses dados."
   ]
  },
  {
   "cell_type": "code",
   "execution_count": 9,
   "id": "9f564ba5",
   "metadata": {},
   "outputs": [
    {
     "name": "stdout",
     "output_type": "stream",
     "text": [
      "[39 50 38 53 28 37 49 52 31 42 30 23 32 40 34 25 43 54 35 59 56 19 20 45\n",
      " 22 48 21 24 57 44 41 29 18 47 46 36 79 27 67 33 76 17 55 61 70 64 71 68\n",
      " 66 51 58 26 60 90 75 65 77 62 63 80 72 74 69 73 81 78 88 82 83 84 85 86\n",
      " 87]\n",
      "[' State-gov' ' Self-emp-not-inc' ' Private' ' Federal-gov' ' Local-gov'\n",
      " ' ?' ' Self-emp-inc' ' Without-pay' ' Never-worked']\n",
      "[ 77516  83311 215646 ...  34066  84661 257302]\n",
      "[' Bachelors' ' HS-grad' ' 11th' ' Masters' ' 9th' ' Some-college'\n",
      " ' Assoc-acdm' ' Assoc-voc' ' 7th-8th' ' Doctorate' ' Prof-school'\n",
      " ' 5th-6th' ' 10th' ' 1st-4th' ' Preschool' ' 12th']\n",
      "[13  9  7 14  5 10 12 11  4 16 15  3  6  2  1  8]\n",
      "[' Never-married' ' Married-civ-spouse' ' Divorced'\n",
      " ' Married-spouse-absent' ' Separated' ' Married-AF-spouse' ' Widowed']\n",
      "[' Adm-clerical' ' Exec-managerial' ' Handlers-cleaners' ' Prof-specialty'\n",
      " ' Other-service' ' Sales' ' Craft-repair' ' Transport-moving'\n",
      " ' Farming-fishing' ' Machine-op-inspct' ' Tech-support' ' ?'\n",
      " ' Protective-serv' ' Armed-Forces' ' Priv-house-serv']\n",
      "[' Not-in-family' ' Husband' ' Wife' ' Own-child' ' Unmarried'\n",
      " ' Other-relative']\n",
      "[' White' ' Black' ' Asian-Pac-Islander' ' Amer-Indian-Eskimo' ' Other']\n",
      "[' Male' ' Female']\n",
      "[ 2174     0 14084  5178  5013  2407 14344 15024  7688 34095  4064  4386\n",
      "  7298  1409  3674  1055  3464  2050  2176   594 20051  6849  4101  1111\n",
      "  8614  3411  2597 25236  4650  9386  2463  3103 10605  2964  3325  2580\n",
      "  3471  4865 99999  6514  1471  2329  2105  2885 25124 10520  2202  2961\n",
      " 27828  6767  2228  1506 13550  2635  5556  4787  3781  3137  3818  3942\n",
      "   914   401  2829  2977  4934  2062  2354  5455 15020  1424  3273 22040\n",
      "  4416  3908 10566   991  4931  1086  7430  6497   114  7896  2346  3418\n",
      "  3432  2907  1151  2414  2290 15831 41310  4508  2538  3456  6418  1848\n",
      "  3887  5721  9562  1455  2036  1831 11678  2936  2993  7443  6360  1797\n",
      "  1173  4687  6723  2009  6097  2653  1639 18481  7978  2387  5060]\n",
      "[   0 2042 1408 1902 1573 1887 1719 1762 1564 2179 1816 1980 1977 1876\n",
      " 1340 2206 1741 1485 2339 2415 1380 1721 2051 2377 1669 2352 1672  653\n",
      " 2392 1504 2001 1590 1651 1628 1848 1740 2002 1579 2258 1602  419 2547\n",
      " 2174 2205 1726 2444 1138 2238  625  213 1539  880 1668 1092 1594 3004\n",
      " 2231 1844  810 2824 2559 2057 1974  974 2149 1825 1735 1258 2129 2603\n",
      " 2282  323 4356 2246 1617 1648 2489 3770 1755 3683 2267 2080 2457  155\n",
      " 3900 2201 1944 2467 2163 2754 2472 1411]\n",
      "[40 13 16 45 50 80 30 35 60 20 52 44 15 25 38 43 55 48 58 32 70  2 22 56\n",
      " 41 28 36 24 46 42 12 65  1 10 34 75 98 33 54  8  6 64 19 18 72  5  9 47\n",
      " 37 21 26 14  4 59  7 99 53 39 62 57 78 90 66 11 49 84  3 17 68 27 85 31\n",
      " 51 77 63 23 87 88 73 89 97 94 29 96 67 82 86 91 81 76 92 61 74 95]\n",
      "[' United-States' ' Cuba' ' Jamaica' ' India' ' ?' ' Mexico' ' South'\n",
      " ' Puerto-Rico' ' Honduras' ' England' ' Canada' ' Germany' ' Iran'\n",
      " ' Philippines' ' Italy' ' Poland' ' Columbia' ' Cambodia' ' Thailand'\n",
      " ' Ecuador' ' Laos' ' Taiwan' ' Haiti' ' Portugal' ' Dominican-Republic'\n",
      " ' El-Salvador' ' France' ' Guatemala' ' China' ' Japan' ' Yugoslavia'\n",
      " ' Peru' ' Outlying-US(Guam-USVI-etc)' ' Scotland' ' Trinadad&Tobago'\n",
      " ' Greece' ' Nicaragua' ' Vietnam' ' Hong' ' Ireland' ' Hungary'\n",
      " ' Holand-Netherlands']\n",
      "[' <=50K' ' >50K']\n"
     ]
    }
   ],
   "source": [
    "'''let's look at the unique values in each column'''\n",
    "for col in df_census_data:\n",
    "    print(df_census_data[col].unique())"
   ]
  },
  {
   "cell_type": "markdown",
   "id": "f835e16b",
   "metadata": {},
   "source": [
    "Também podemos plotar algumas estatísticas relacionadas à base de dados para melhor entender as métricas envolvidas."
   ]
  },
  {
   "cell_type": "code",
   "execution_count": 10,
   "id": "6268a968",
   "metadata": {},
   "outputs": [
    {
     "data": {
      "text/html": [
       "<div>\n",
       "<style scoped>\n",
       "    .dataframe tbody tr th:only-of-type {\n",
       "        vertical-align: middle;\n",
       "    }\n",
       "\n",
       "    .dataframe tbody tr th {\n",
       "        vertical-align: top;\n",
       "    }\n",
       "\n",
       "    .dataframe thead th {\n",
       "        text-align: right;\n",
       "    }\n",
       "</style>\n",
       "<table border=\"1\" class=\"dataframe\">\n",
       "  <thead>\n",
       "    <tr style=\"text-align: right;\">\n",
       "      <th></th>\n",
       "      <th>age</th>\n",
       "      <th>final-weight</th>\n",
       "      <th>education-num</th>\n",
       "      <th>capital-gain</th>\n",
       "      <th>capital-loos</th>\n",
       "      <th>hour-per-week</th>\n",
       "    </tr>\n",
       "  </thead>\n",
       "  <tbody>\n",
       "    <tr>\n",
       "      <th>count</th>\n",
       "      <td>32561.000000</td>\n",
       "      <td>3.256100e+04</td>\n",
       "      <td>32561.000000</td>\n",
       "      <td>32561.000000</td>\n",
       "      <td>32561.000000</td>\n",
       "      <td>32561.000000</td>\n",
       "    </tr>\n",
       "    <tr>\n",
       "      <th>mean</th>\n",
       "      <td>38.581647</td>\n",
       "      <td>1.897784e+05</td>\n",
       "      <td>10.080679</td>\n",
       "      <td>1077.648844</td>\n",
       "      <td>87.303830</td>\n",
       "      <td>40.437456</td>\n",
       "    </tr>\n",
       "    <tr>\n",
       "      <th>std</th>\n",
       "      <td>13.640433</td>\n",
       "      <td>1.055500e+05</td>\n",
       "      <td>2.572720</td>\n",
       "      <td>7385.292085</td>\n",
       "      <td>402.960219</td>\n",
       "      <td>12.347429</td>\n",
       "    </tr>\n",
       "    <tr>\n",
       "      <th>min</th>\n",
       "      <td>17.000000</td>\n",
       "      <td>1.228500e+04</td>\n",
       "      <td>1.000000</td>\n",
       "      <td>0.000000</td>\n",
       "      <td>0.000000</td>\n",
       "      <td>1.000000</td>\n",
       "    </tr>\n",
       "    <tr>\n",
       "      <th>25%</th>\n",
       "      <td>28.000000</td>\n",
       "      <td>1.178270e+05</td>\n",
       "      <td>9.000000</td>\n",
       "      <td>0.000000</td>\n",
       "      <td>0.000000</td>\n",
       "      <td>40.000000</td>\n",
       "    </tr>\n",
       "    <tr>\n",
       "      <th>50%</th>\n",
       "      <td>37.000000</td>\n",
       "      <td>1.783560e+05</td>\n",
       "      <td>10.000000</td>\n",
       "      <td>0.000000</td>\n",
       "      <td>0.000000</td>\n",
       "      <td>40.000000</td>\n",
       "    </tr>\n",
       "    <tr>\n",
       "      <th>75%</th>\n",
       "      <td>48.000000</td>\n",
       "      <td>2.370510e+05</td>\n",
       "      <td>12.000000</td>\n",
       "      <td>0.000000</td>\n",
       "      <td>0.000000</td>\n",
       "      <td>45.000000</td>\n",
       "    </tr>\n",
       "    <tr>\n",
       "      <th>max</th>\n",
       "      <td>90.000000</td>\n",
       "      <td>1.484705e+06</td>\n",
       "      <td>16.000000</td>\n",
       "      <td>99999.000000</td>\n",
       "      <td>4356.000000</td>\n",
       "      <td>99.000000</td>\n",
       "    </tr>\n",
       "  </tbody>\n",
       "</table>\n",
       "</div>"
      ],
      "text/plain": [
       "                age  final-weight  education-num  capital-gain  capital-loos  \\\n",
       "count  32561.000000  3.256100e+04   32561.000000  32561.000000  32561.000000   \n",
       "mean      38.581647  1.897784e+05      10.080679   1077.648844     87.303830   \n",
       "std       13.640433  1.055500e+05       2.572720   7385.292085    402.960219   \n",
       "min       17.000000  1.228500e+04       1.000000      0.000000      0.000000   \n",
       "25%       28.000000  1.178270e+05       9.000000      0.000000      0.000000   \n",
       "50%       37.000000  1.783560e+05      10.000000      0.000000      0.000000   \n",
       "75%       48.000000  2.370510e+05      12.000000      0.000000      0.000000   \n",
       "max       90.000000  1.484705e+06      16.000000  99999.000000   4356.000000   \n",
       "\n",
       "       hour-per-week  \n",
       "count   32561.000000  \n",
       "mean       40.437456  \n",
       "std        12.347429  \n",
       "min         1.000000  \n",
       "25%        40.000000  \n",
       "50%        40.000000  \n",
       "75%        45.000000  \n",
       "max        99.000000  "
      ]
     },
     "execution_count": 10,
     "metadata": {},
     "output_type": "execute_result"
    }
   ],
   "source": [
    "'''let's take a glance on some stats'''\n",
    "df_census_data.describe()"
   ]
  },
  {
   "cell_type": "markdown",
   "id": "659a486b",
   "metadata": {},
   "source": [
    "<strong>4. Obtendo uma amostra dos dados<strong>\n",
    "\n",
    "<strong>4.1 Amostragem aleatória</strong>\n",
    "<br>Seleciona a amostra de forma aleatória."
   ]
  },
  {
   "cell_type": "code",
   "execution_count": 11,
   "id": "56677347",
   "metadata": {},
   "outputs": [],
   "source": [
    "def random_sampling(dataset: DataFrame, samples: int) ->  DataFrame:\n",
    "    '''randomly selects a given number of samples from the dataset'''\n",
    "    return dataset.sample(samples)"
   ]
  },
  {
   "cell_type": "code",
   "execution_count": 12,
   "id": "2fd26948",
   "metadata": {},
   "outputs": [
    {
     "data": {
      "text/plain": [
       "(100, 15)"
      ]
     },
     "execution_count": 12,
     "metadata": {},
     "output_type": "execute_result"
    }
   ],
   "source": [
    "df_random_sample = random_sampling(df_census_data, 100)\n",
    "df_random_sample.shape"
   ]
  },
  {
   "cell_type": "markdown",
   "id": "93ba0c1d",
   "metadata": {},
   "source": [
    "<strong>4.2 Amostragem Sistemática</strong>\n",
    "<br>Divide-se o conjunto de dados pelo número de amostras para encontrar o valor da distância entre as amostras e, depois de selecionar aleatoriamente a primeira amostra, seleciona-se as demais amostras adicionando o valor da distância entre elas ao número da linha de forma sistemática."
   ]
  },
  {
   "cell_type": "code",
   "execution_count": 13,
   "id": "3496dd6b",
   "metadata": {},
   "outputs": [],
   "source": [
    "def systematic_sampling(dataset: DataFrame, samples: int) -> DataFrame:\n",
    "    ''' first, compute the distance from sample to sample;\n",
    "        use random.seed(1) to always have the same rows selected;\n",
    "        then, select the first row for our sample;\n",
    "        then, select other samples based on the first selected row and the step;\n",
    "        finally, return sample dataset'''\n",
    "    step = len(dataset) // samples \n",
    "    #random.seed(1)\n",
    "    start = random.randint(0,step)\n",
    "    i_sample = np.arange(start, len(dataset), step = step)\n",
    "    return dataset.iloc[i_sample]"
   ]
  },
  {
   "cell_type": "code",
   "execution_count": 14,
   "id": "1620d775",
   "metadata": {},
   "outputs": [
    {
     "data": {
      "text/plain": [
       "(100, 15)"
      ]
     },
     "execution_count": 14,
     "metadata": {},
     "output_type": "execute_result"
    }
   ],
   "source": [
    "df_systematic_sample = systematic_sampling(df_census_data, 100)\n",
    "df_systematic_sample.shape"
   ]
  },
  {
   "cell_type": "markdown",
   "id": "074b8f67",
   "metadata": {},
   "source": [
    "<strong>4.3 Amostragem em Grupo</strong>\n",
    "<br>Divida o conjunto de dados em grupos de mesmo tamanho e selecione um grupo para compor a amostra."
   ]
  },
  {
   "cell_type": "code",
   "execution_count": 15,
   "id": "8556ecaa",
   "metadata": {},
   "outputs": [],
   "source": [
    "def group_sampling(dataset: DataFrame, n_groups: int) -> DataFrame:\n",
    "    try:\n",
    "        ''' first, compute the group size;\n",
    "            then, create a group column to attribute each row to a group;\n",
    "            then, randomly select one group;\n",
    "            finally, return the sample dataset;\n",
    "            note the use of .copy() to get rid of:\n",
    "            SettingWithCopyWarning: A value is trying to be set on a copy of a slice from a DataFrame'''\n",
    "        step = len(dataset) / n_groups\n",
    "        groups = []\n",
    "        id_group = 0\n",
    "        index = 0\n",
    "        for _ in dataset.iterrows():\n",
    "            groups.append(id_group)\n",
    "            index += 1\n",
    "            if index > step:\n",
    "                index = 0\n",
    "                id_group += 1\n",
    "        dataset = dataset.copy()\n",
    "        dataset['groups'] = groups\n",
    "        selected_group = random.randint(0, n_groups)\n",
    "        temp_dataset = dataset[dataset['groups'] == selected_group].copy()\n",
    "        return temp_dataset\n",
    "    finally:\n",
    "        ''' running only the section on 'try:' was appending the column 'groups' to the dataset\n",
    "            this section drops the column 'groups' from the dataset'''\n",
    "        dataset.drop('groups', axis=1, inplace=True)\n",
    "        temp_dataset.drop('groups', axis=1, inplace=True)"
   ]
  },
  {
   "cell_type": "code",
   "execution_count": 16,
   "id": "47ff466d",
   "metadata": {},
   "outputs": [
    {
     "data": {
      "text/plain": [
       "(100, 15)"
      ]
     },
     "execution_count": 16,
     "metadata": {},
     "output_type": "execute_result"
    }
   ],
   "source": [
    "df_group_sample = group_sampling(df_census_data, 326)\n",
    "df_group_sample.shape"
   ]
  },
  {
   "cell_type": "markdown",
   "id": "291a0a8c",
   "metadata": {},
   "source": [
    "<strong>4.4 Amostragem Estratificada </strong>\n",
    "<br>Divide-se o conjunto de dados de acordo com alguma dimensão relevante e selecioná-se as amostras de acordo com a divisão realizada. O objetivo dessa estratificação é garantir que as proporções da dimensão escolhida seja a mesma tanto na população quanto na amostra."
   ]
  },
  {
   "cell_type": "code",
   "execution_count": 17,
   "id": "4c9eebd4",
   "metadata": {},
   "outputs": [],
   "source": [
    "'''import sklearn'''\n",
    "from sklearn.model_selection import StratifiedShuffleSplit"
   ]
  },
  {
   "cell_type": "code",
   "execution_count": 18,
   "id": "124ce978",
   "metadata": {},
   "outputs": [],
   "source": [
    "def stratified_sampling(dataset: DataFrame, percentage: float) -> DataFrame:\n",
    "    ''' first, we set the splt based on the desired relative sample size;\n",
    "        then, we split the dataset based upon a column of our choice'''\n",
    "    split = StratifiedShuffleSplit(test_size=percentage)\n",
    "    for _, y in split.split(dataset, dataset['income']):\n",
    "        df_y = dataset.iloc[y]\n",
    "    return df_y"
   ]
  },
  {
   "cell_type": "code",
   "execution_count": 19,
   "id": "f15ce555",
   "metadata": {},
   "outputs": [
    {
     "data": {
      "text/plain": [
       "(100, 15)"
      ]
     },
     "execution_count": 19,
     "metadata": {},
     "output_type": "execute_result"
    }
   ],
   "source": [
    "df_stratified_sample = stratified_sampling(df_census_data, (100 / len(df_census_data)))\n",
    "df_stratified_sample.shape"
   ]
  },
  {
   "cell_type": "markdown",
   "id": "795cc956",
   "metadata": {},
   "source": [
    "<strong>4.5 Amostragem de Reservatório </strong>\n",
    "<br>Interessante para trabalhar com fluxo de dados, ou seja, com dados que estão sempre se atualizando, que estão sempre recebendo novas ocorrências. A ideia é selecionar os itens da amostra a medida que eles chegam na base."
   ]
  },
  {
   "cell_type": "code",
   "execution_count": 20,
   "id": "2fb7aab9",
   "metadata": {},
   "outputs": [],
   "source": [
    "def reservoir_sampling(dataset: DataFrame, samples: int) -> DataFrame:\n",
    "    ''' First, create a stream to move through the dataset;\n",
    "        Then, check the dataset size;\n",
    "        Then, preload the reservoir with data from the stream\n",
    "        Then, the while loop will change the values from the reservoir as it navigates through the dataset.\n",
    "        Finally, return the sample dataset'''\n",
    "    stream = []\n",
    "    for i in range(len(dataset)):\n",
    "        stream.append(i)\n",
    "    i = 0\n",
    "    size = len(dataset)\n",
    "    reservoir = [0] * samples\n",
    "    for i in range(samples):\n",
    "        reservoir[i] = stream[i]\n",
    "    while i < size:\n",
    "        j = random.randrange(i + 1)\n",
    "        if j < samples:\n",
    "            reservoir[j] = stream[i]\n",
    "        i += 1\n",
    "    return dataset.iloc[reservoir]"
   ]
  },
  {
   "cell_type": "code",
   "execution_count": 21,
   "id": "1a588986",
   "metadata": {},
   "outputs": [
    {
     "data": {
      "text/plain": [
       "(100, 15)"
      ]
     },
     "execution_count": 21,
     "metadata": {},
     "output_type": "execute_result"
    }
   ],
   "source": [
    "df_reservoir_sample = reservoir_sampling(df_census_data, 100)\n",
    "df_reservoir_sample.shape"
   ]
  },
  {
   "cell_type": "markdown",
   "id": "f7b3e17d",
   "metadata": {},
   "source": [
    "<strong>5. Comparações </strong>\n",
    "<br>Após termos configurado as funções que calculam as amostras, precisamos comparar os resultados de cada método. Para isso, vamos usar uma versão reduzida do conjunto de dados, com apenas algumas métricas e dimensões."
   ]
  },
  {
   "cell_type": "code",
   "execution_count": 22,
   "id": "28696196",
   "metadata": {},
   "outputs": [],
   "source": [
    "'''Create a subset from our dataset, we don't need to work with all metrics and dimensions right now'''\n",
    "df_census_data_subset = df_census_data[['income','race','sex','age']]"
   ]
  },
  {
   "cell_type": "code",
   "execution_count": 23,
   "id": "caae36c5",
   "metadata": {},
   "outputs": [
    {
     "data": {
      "text/html": [
       "<div>\n",
       "<style scoped>\n",
       "    .dataframe tbody tr th:only-of-type {\n",
       "        vertical-align: middle;\n",
       "    }\n",
       "\n",
       "    .dataframe tbody tr th {\n",
       "        vertical-align: top;\n",
       "    }\n",
       "\n",
       "    .dataframe thead th {\n",
       "        text-align: right;\n",
       "    }\n",
       "</style>\n",
       "<table border=\"1\" class=\"dataframe\">\n",
       "  <thead>\n",
       "    <tr style=\"text-align: right;\">\n",
       "      <th></th>\n",
       "      <th>income</th>\n",
       "      <th>race</th>\n",
       "      <th>sex</th>\n",
       "      <th>age</th>\n",
       "    </tr>\n",
       "  </thead>\n",
       "  <tbody>\n",
       "    <tr>\n",
       "      <th>0</th>\n",
       "      <td>&lt;=50K</td>\n",
       "      <td>White</td>\n",
       "      <td>Male</td>\n",
       "      <td>39</td>\n",
       "    </tr>\n",
       "    <tr>\n",
       "      <th>1</th>\n",
       "      <td>&lt;=50K</td>\n",
       "      <td>White</td>\n",
       "      <td>Male</td>\n",
       "      <td>50</td>\n",
       "    </tr>\n",
       "    <tr>\n",
       "      <th>2</th>\n",
       "      <td>&lt;=50K</td>\n",
       "      <td>White</td>\n",
       "      <td>Male</td>\n",
       "      <td>38</td>\n",
       "    </tr>\n",
       "    <tr>\n",
       "      <th>3</th>\n",
       "      <td>&lt;=50K</td>\n",
       "      <td>Black</td>\n",
       "      <td>Male</td>\n",
       "      <td>53</td>\n",
       "    </tr>\n",
       "    <tr>\n",
       "      <th>4</th>\n",
       "      <td>&lt;=50K</td>\n",
       "      <td>Black</td>\n",
       "      <td>Female</td>\n",
       "      <td>28</td>\n",
       "    </tr>\n",
       "  </tbody>\n",
       "</table>\n",
       "</div>"
      ],
      "text/plain": [
       "   income    race      sex  age\n",
       "0   <=50K   White     Male   39\n",
       "1   <=50K   White     Male   50\n",
       "2   <=50K   White     Male   38\n",
       "3   <=50K   Black     Male   53\n",
       "4   <=50K   Black   Female   28"
      ]
     },
     "execution_count": 23,
     "metadata": {},
     "output_type": "execute_result"
    }
   ],
   "source": [
    "'''let's take a glance at the new dataset'''\n",
    "df_census_data_subset.head()"
   ]
  },
  {
   "cell_type": "code",
   "execution_count": 24,
   "id": "c46d714b",
   "metadata": {},
   "outputs": [
    {
     "data": {
      "text/plain": [
       "income     2\n",
       "race       5\n",
       "sex        2\n",
       "age       73\n",
       "dtype: int64"
      ]
     },
     "execution_count": 24,
     "metadata": {},
     "output_type": "execute_result"
    }
   ],
   "source": [
    "'''let's check the count of unique values once again'''\n",
    "df_census_data_subset.nunique()"
   ]
  },
  {
   "cell_type": "code",
   "execution_count": 25,
   "id": "504d1668",
   "metadata": {},
   "outputs": [],
   "source": [
    "'''run the sampling again'''\n",
    "df_random_sample = random_sampling(df_census_data_subset, 100)\n",
    "df_systematic_sample = systematic_sampling(df_census_data_subset, 100)\n",
    "df_stratified_sample = stratified_sampling(df_census_data_subset, (100 / len(df_census_data_subset)))\n",
    "df_group_sample = group_sampling(df_census_data_subset, 326)\n",
    "df_reservoir_sample = reservoir_sampling(df_census_data_subset, 100)"
   ]
  },
  {
   "cell_type": "code",
   "execution_count": 26,
   "id": "b34a01a2",
   "metadata": {},
   "outputs": [
    {
     "name": "stdout",
     "output_type": "stream",
     "text": [
      "(100, 4) (100, 4) (100, 4) (100, 4) (100, 4)\n"
     ]
    }
   ],
   "source": [
    "'''check the shape of each sample'''\n",
    "print(\n",
    "    df_random_sample.shape,\n",
    "    df_systematic_sample.shape,\n",
    "    df_stratified_sample.shape,\n",
    "    df_group_sample.shape,\n",
    "    df_reservoir_sample.shape\n",
    ")"
   ]
  },
  {
   "cell_type": "code",
   "execution_count": 27,
   "id": "3a3b47cf",
   "metadata": {},
   "outputs": [
    {
     "name": "stdout",
     "output_type": "stream",
     "text": [
      "Comparisons:\n",
      "Dataset: 38.58 \n",
      "Simple Sample: 39.07 \n",
      "Systematic Sample: 37.88 \n",
      "Stratified Sample: 41.31 \n",
      "Group Sample: 38.57 \n",
      "Reservoir Sample: 36.99\n"
     ]
    }
   ],
   "source": [
    "print(\n",
    "    \"Comparisons:\"\n",
    "    \"\\nDataset: %2.2f\" % (df_census_data_subset['age'].mean()),\n",
    "    \"\\nSimple Sample: %2.2f\" % (df_random_sample['age'].mean()),\n",
    "    \"\\nSystematic Sample: %2.2f\" % (df_systematic_sample['age'].mean()),\n",
    "    \"\\nStratified Sample: %2.2f\" % (df_stratified_sample['age'].mean()),\n",
    "    \"\\nGroup Sample: %2.2f\" % (df_group_sample['age'].mean()),\n",
    "    \"\\nReservoir Sample: %2.2f\" % (df_reservoir_sample['age'].mean())\n",
    ")"
   ]
  },
  {
   "cell_type": "code",
   "execution_count": 28,
   "id": "2ef52c82",
   "metadata": {},
   "outputs": [
    {
     "name": "stdout",
     "output_type": "stream",
     "text": [
      "Mean Population versus Mean Sample:\n",
      "Dataset: 38.58 \n",
      "Simple Sample: 39.07 e -1.27% \n",
      "Systematic Sample: 37.88 e 1.82% \n",
      "Stratified Sample: 41.31 e -7.07% \n",
      "Group Sample: 38.57 e 0.03% \n",
      "Reservoir Sample: 36.99 e 4.13%\n"
     ]
    }
   ],
   "source": [
    "'''let's compare the means from the sampling's methods with the dataset mean'''\n",
    "varmean = df_census_data_subset['age'].mean()\n",
    "\n",
    "m1 = df_random_sample['age'].mean()\n",
    "m2 = df_systematic_sample['age'].mean()\n",
    "m3 = df_stratified_sample['age'].mean()\n",
    "m4 = df_group_sample['age'].mean()\n",
    "m5 = df_reservoir_sample['age'].mean()\n",
    "\n",
    "v1 = (varmean - df_random_sample['age'].mean()) / varmean\n",
    "v2 = (varmean - df_systematic_sample['age'].mean()) / varmean\n",
    "v3 = (varmean - df_stratified_sample['age'].mean()) / varmean\n",
    "v4 = (varmean - df_group_sample['age'].mean()) / varmean\n",
    "v5 = (varmean - df_reservoir_sample['age'].mean()) / varmean\n",
    "\n",
    "print(\n",
    "    \"Mean Population versus Mean Sample:\"\n",
    "    \"\\nDataset: %2.2f\" % (varmean),\n",
    "    \"\\nSimple Sample: %2.2f e %2.2f%%\" % (m1, v1*100),\n",
    "    \"\\nSystematic Sample: %2.2f e %2.2f%%\" % (m2, v2*100),\n",
    "    \"\\nStratified Sample: %2.2f e %2.2f%%\" % (m3, v3*100),\n",
    "    \"\\nGroup Sample: %2.2f e %2.2f%%\" % (m4, v4*100),\n",
    "    \"\\nReservoir Sample: %2.2f e %2.2f%%\" % (m5, v5*100)\n",
    ")"
   ]
  },
  {
   "cell_type": "markdown",
   "id": "7161a710",
   "metadata": {},
   "source": [
    "<strong> 5.1 Avaliando resultados </strong>\n",
    "<br>Comparar os resultados da média de idade das amostras com o valor da média do conjunto de dados pode nos dar uma ideia de qual dos métodos é mais eficiênte e mais adequado para obter uma amostra dos nossos dados, contudo não podemos parar por aqui. Podemos agora olhar os valores únicos obtidos em cada método de amostragem usado. "
   ]
  },
  {
   "cell_type": "code",
   "execution_count": 29,
   "id": "9fe07d4c",
   "metadata": {},
   "outputs": [],
   "source": [
    "'''let's count the unique values obtained in each sampling and add them to a dataset'''\n",
    "df1 = pd.DataFrame([df_census_data_subset.nunique()]); df1['sample'] = 'original'\n",
    "df2 = pd.DataFrame([df_random_sample.nunique()]); df2['sample'] = 'random'\n",
    "df3 = pd.DataFrame([df_systematic_sample.nunique()]); df3['sample'] = 'systematic'\n",
    "df4 = pd.DataFrame([df_stratified_sample.nunique()]); df4['sample'] = 'stratified'\n",
    "df5 = pd.DataFrame([df_group_sample.nunique()]); df5['sample'] = 'group'\n",
    "df6 = pd.DataFrame([df_reservoir_sample.nunique()]); df6['sample'] = 'reservoir'"
   ]
  },
  {
   "cell_type": "code",
   "execution_count": 30,
   "id": "baaee77a",
   "metadata": {},
   "outputs": [],
   "source": [
    "''' we can concatanate all those datasets and reorder their columns \n",
    "    to obtain a table with the count of all unique values from all methods'''\n",
    "df = pd.concat([df1, df2, df3, df4, df5, df6], ignore_index=True)\n",
    "\n",
    "cols = list(df.columns)\n",
    "colunas = cols[-1:] + cols[:-1]\n",
    "\n",
    "df_samples_nunique_comparison  = df[colunas]"
   ]
  },
  {
   "cell_type": "markdown",
   "id": "8f93c5f3",
   "metadata": {},
   "source": [
    "O resultado desse cálculo varia de acordo com os valores aletórios gerados quando se usa cada método de amostragem, então é possível que isso não ocorra quando você rodar esse código, mas é provável que faltem algumas dimensões nessa conta. Por isso eu reduzi o número de dimensões anteriormente, para agora focar em apenas três.\n",
    "\n",
    "Uma amostra que excluí uma raça ou uma identidade de gênero da população, pode ser considerada uma amostra válida?\n"
   ]
  },
  {
   "cell_type": "code",
   "execution_count": 31,
   "id": "d3af8542",
   "metadata": {},
   "outputs": [
    {
     "data": {
      "text/html": [
       "<div>\n",
       "<style scoped>\n",
       "    .dataframe tbody tr th:only-of-type {\n",
       "        vertical-align: middle;\n",
       "    }\n",
       "\n",
       "    .dataframe tbody tr th {\n",
       "        vertical-align: top;\n",
       "    }\n",
       "\n",
       "    .dataframe thead th {\n",
       "        text-align: right;\n",
       "    }\n",
       "</style>\n",
       "<table border=\"1\" class=\"dataframe\">\n",
       "  <thead>\n",
       "    <tr style=\"text-align: right;\">\n",
       "      <th></th>\n",
       "      <th>sample</th>\n",
       "      <th>income</th>\n",
       "      <th>race</th>\n",
       "      <th>sex</th>\n",
       "      <th>age</th>\n",
       "    </tr>\n",
       "  </thead>\n",
       "  <tbody>\n",
       "    <tr>\n",
       "      <th>0</th>\n",
       "      <td>original</td>\n",
       "      <td>2</td>\n",
       "      <td>5</td>\n",
       "      <td>2</td>\n",
       "      <td>73</td>\n",
       "    </tr>\n",
       "    <tr>\n",
       "      <th>1</th>\n",
       "      <td>random</td>\n",
       "      <td>2</td>\n",
       "      <td>5</td>\n",
       "      <td>2</td>\n",
       "      <td>42</td>\n",
       "    </tr>\n",
       "    <tr>\n",
       "      <th>2</th>\n",
       "      <td>systematic</td>\n",
       "      <td>2</td>\n",
       "      <td>5</td>\n",
       "      <td>2</td>\n",
       "      <td>42</td>\n",
       "    </tr>\n",
       "    <tr>\n",
       "      <th>3</th>\n",
       "      <td>stratified</td>\n",
       "      <td>2</td>\n",
       "      <td>4</td>\n",
       "      <td>2</td>\n",
       "      <td>46</td>\n",
       "    </tr>\n",
       "    <tr>\n",
       "      <th>4</th>\n",
       "      <td>group</td>\n",
       "      <td>2</td>\n",
       "      <td>3</td>\n",
       "      <td>2</td>\n",
       "      <td>41</td>\n",
       "    </tr>\n",
       "    <tr>\n",
       "      <th>5</th>\n",
       "      <td>reservoir</td>\n",
       "      <td>2</td>\n",
       "      <td>5</td>\n",
       "      <td>2</td>\n",
       "      <td>44</td>\n",
       "    </tr>\n",
       "  </tbody>\n",
       "</table>\n",
       "</div>"
      ],
      "text/plain": [
       "       sample  income  race  sex  age\n",
       "0    original       2     5    2   73\n",
       "1      random       2     5    2   42\n",
       "2  systematic       2     5    2   42\n",
       "3  stratified       2     4    2   46\n",
       "4       group       2     3    2   41\n",
       "5   reservoir       2     5    2   44"
      ]
     },
     "execution_count": 31,
     "metadata": {},
     "output_type": "execute_result"
    }
   ],
   "source": [
    "df_samples_nunique_comparison"
   ]
  },
  {
   "cell_type": "markdown",
   "id": "85289a3f",
   "metadata": {},
   "source": [
    "<strong>6. Limpando o ambiente </strong>\n",
    "<br>As últimas linhas de código que implementamos deixaram algumas variáveis sobrando na memória, vamos dar uma olhada nelas e depois limpá-las?"
   ]
  },
  {
   "cell_type": "code",
   "execution_count": 32,
   "id": "f7d81f9e",
   "metadata": {},
   "outputs": [
    {
     "name": "stdout",
     "output_type": "stream",
     "text": [
      "                df_census_data: 20.2 MiB\n",
      "         df_census_data_subset:  6.1 MiB\n",
      "          df_systematic_sample: 20.0 KiB\n",
      "           df_reservoir_sample: 20.0 KiB\n",
      "               df_group_sample: 20.0 KiB\n",
      "          df_stratified_sample: 20.0 KiB\n",
      "              df_random_sample: 20.0 KiB\n",
      "                     DataFrame:  1.0 KiB\n",
      "        StratifiedShuffleSplit:  1.0 KiB\n",
      "                            df:  726.0 B\n",
      " df_samples_nunique_comparison:  726.0 B\n",
      "                           Out:  640.0 B\n",
      "                            In:  376.0 B\n",
      "                           df3:  243.0 B\n",
      "                           df4:  243.0 B\n",
      "                           df6:  242.0 B\n",
      "                           df1:  241.0 B\n",
      "                           df2:  239.0 B\n",
      "                           df5:  238.0 B\n",
      "               random_sampling:  136.0 B\n"
     ]
    }
   ],
   "source": [
    "''' This code will print a given number of variables, called n_var, created by the user inside this notebook.\n",
    "    I found this code in stackoverflow and modified it to return the variables I've created.\n",
    "    In order to do so, I have filtered all variables starting with \"_\", as it seems those are the sys variables.'''\n",
    "\n",
    "import sys\n",
    "def sizeof_fmt(num, suffix='B'):\n",
    "    ''' by jan-glx, https://stackoverflow.com/questions/24455615, modified'''\n",
    "    ''' by Fred Cirera,  https://stackoverflow.com/a/1094933/1870254, modified by jan-glx'''\n",
    "    for unit in ['','Ki','Mi','Gi','Ti','Pi','Ei','Zi']:\n",
    "        if abs(num) < 1024.0:\n",
    "            return \"%3.1f %s%s\" % (num, unit, suffix)\n",
    "        num /= 1024.0\n",
    "    return \"%.1f %s%s\" % (num, 'Yi', suffix)\n",
    "\n",
    "i = 0; n_var = 20\n",
    "for name, size in sorted(((name, sys.getsizeof(value)) for name, value in list(\n",
    "                          locals().items())), key= lambda x: -x[1]):#[:10]:\n",
    "    if i < n_var:\n",
    "        if name.startswith('_') == False:\n",
    "            print(\"{:>30}: {:>8}\".format(name, sizeof_fmt(size)))\n",
    "            i += 1"
   ]
  },
  {
   "cell_type": "code",
   "execution_count": 33,
   "id": "61fc26c3",
   "metadata": {},
   "outputs": [],
   "source": [
    "'''A simple del can clean some variable from the memory'''\n",
    "del df, df1, df2, df3, df4, df5, df6, cols, colunas"
   ]
  },
  {
   "cell_type": "code",
   "execution_count": 34,
   "id": "4d7d2a47",
   "metadata": {},
   "outputs": [],
   "source": [
    "''' Let's rewrite this last part of the notebook as a function, so we can recall it;\n",
    "    Also, with a function, we don't have to deal with variables created to be used just one time.'''\n",
    "def count_unique_values_v1():\n",
    "\n",
    "    df1 = pd.DataFrame([df_census_data_subset.nunique()]); df1['sample'] = 'original'\n",
    "    df2 = pd.DataFrame([df_random_sample.nunique()]); df2['sample'] = 'random'\n",
    "    df3 = pd.DataFrame([df_systematic_sample.nunique()]); df3['sample'] = 'systematic'\n",
    "    df4 = pd.DataFrame([df_stratified_sample.nunique()]); df4['sample'] = 'stratified'\n",
    "    df5 = pd.DataFrame([df_group_sample.nunique()]); df5['sample'] = 'group'\n",
    "    df6 = pd.DataFrame([df_reservoir_sample.nunique()]); df6['sample'] = 'reservoir'\n",
    "\n",
    "    df = pd.concat([df1, df2, df3, df4, df5, df6], ignore_index=True)\n",
    "    cols = list(df.columns)\n",
    "    colunas = cols[-1:] + cols[:-1]\n",
    "\n",
    "    return df[colunas]"
   ]
  },
  {
   "cell_type": "code",
   "execution_count": 35,
   "id": "77a300f5",
   "metadata": {},
   "outputs": [
    {
     "data": {
      "text/html": [
       "<div>\n",
       "<style scoped>\n",
       "    .dataframe tbody tr th:only-of-type {\n",
       "        vertical-align: middle;\n",
       "    }\n",
       "\n",
       "    .dataframe tbody tr th {\n",
       "        vertical-align: top;\n",
       "    }\n",
       "\n",
       "    .dataframe thead th {\n",
       "        text-align: right;\n",
       "    }\n",
       "</style>\n",
       "<table border=\"1\" class=\"dataframe\">\n",
       "  <thead>\n",
       "    <tr style=\"text-align: right;\">\n",
       "      <th></th>\n",
       "      <th>sample</th>\n",
       "      <th>income</th>\n",
       "      <th>race</th>\n",
       "      <th>sex</th>\n",
       "      <th>age</th>\n",
       "    </tr>\n",
       "  </thead>\n",
       "  <tbody>\n",
       "    <tr>\n",
       "      <th>0</th>\n",
       "      <td>original</td>\n",
       "      <td>2</td>\n",
       "      <td>5</td>\n",
       "      <td>2</td>\n",
       "      <td>73</td>\n",
       "    </tr>\n",
       "    <tr>\n",
       "      <th>1</th>\n",
       "      <td>random</td>\n",
       "      <td>2</td>\n",
       "      <td>5</td>\n",
       "      <td>2</td>\n",
       "      <td>42</td>\n",
       "    </tr>\n",
       "    <tr>\n",
       "      <th>2</th>\n",
       "      <td>systematic</td>\n",
       "      <td>2</td>\n",
       "      <td>5</td>\n",
       "      <td>2</td>\n",
       "      <td>42</td>\n",
       "    </tr>\n",
       "    <tr>\n",
       "      <th>3</th>\n",
       "      <td>stratified</td>\n",
       "      <td>2</td>\n",
       "      <td>4</td>\n",
       "      <td>2</td>\n",
       "      <td>46</td>\n",
       "    </tr>\n",
       "    <tr>\n",
       "      <th>4</th>\n",
       "      <td>group</td>\n",
       "      <td>2</td>\n",
       "      <td>3</td>\n",
       "      <td>2</td>\n",
       "      <td>41</td>\n",
       "    </tr>\n",
       "    <tr>\n",
       "      <th>5</th>\n",
       "      <td>reservoir</td>\n",
       "      <td>2</td>\n",
       "      <td>5</td>\n",
       "      <td>2</td>\n",
       "      <td>44</td>\n",
       "    </tr>\n",
       "  </tbody>\n",
       "</table>\n",
       "</div>"
      ],
      "text/plain": [
       "       sample  income  race  sex  age\n",
       "0    original       2     5    2   73\n",
       "1      random       2     5    2   42\n",
       "2  systematic       2     5    2   42\n",
       "3  stratified       2     4    2   46\n",
       "4       group       2     3    2   41\n",
       "5   reservoir       2     5    2   44"
      ]
     },
     "execution_count": 35,
     "metadata": {},
     "output_type": "execute_result"
    }
   ],
   "source": [
    "count_unique_values_v1()"
   ]
  },
  {
   "cell_type": "code",
   "execution_count": 36,
   "id": "519590c2",
   "metadata": {},
   "outputs": [],
   "source": [
    "''' The last function already does the trick, but we can make it better:\n",
    "    Let's add some parameters to this function'''\n",
    "def count_unique_values_v2(dataset: DataFrame, sample1: DataFrame, sample2: DataFrame,\n",
    "                        sample3: DataFrame, sample4: DataFrame, sample5: DataFrame) -> DataFrame:\n",
    "\n",
    "    df1 = pd.DataFrame([dataset.nunique()]); df1['sample'] = 'original'\n",
    "    df2 = pd.DataFrame([sample1.nunique()]); df2['sample'] = 'random'\n",
    "    df3 = pd.DataFrame([sample2.nunique()]); df3['sample'] = 'systematic'\n",
    "    df4 = pd.DataFrame([sample3.nunique()]); df4['sample'] = 'stratified'\n",
    "    df5 = pd.DataFrame([sample4.nunique()]); df5['sample'] = 'group'\n",
    "    df6 = pd.DataFrame([sample5.nunique()]); df6['sample'] = 'reservoir'\n",
    "\n",
    "    df = pd.concat([df1, df2, df3, df4, df5, df6], ignore_index=True)\n",
    "    cols = list(df.columns)\n",
    "    colunas = cols[-1:] + cols[:-1]\n",
    "\n",
    "    return df[colunas]"
   ]
  },
  {
   "cell_type": "code",
   "execution_count": 37,
   "id": "687e6815",
   "metadata": {},
   "outputs": [
    {
     "data": {
      "text/html": [
       "<div>\n",
       "<style scoped>\n",
       "    .dataframe tbody tr th:only-of-type {\n",
       "        vertical-align: middle;\n",
       "    }\n",
       "\n",
       "    .dataframe tbody tr th {\n",
       "        vertical-align: top;\n",
       "    }\n",
       "\n",
       "    .dataframe thead th {\n",
       "        text-align: right;\n",
       "    }\n",
       "</style>\n",
       "<table border=\"1\" class=\"dataframe\">\n",
       "  <thead>\n",
       "    <tr style=\"text-align: right;\">\n",
       "      <th></th>\n",
       "      <th>sample</th>\n",
       "      <th>income</th>\n",
       "      <th>race</th>\n",
       "      <th>sex</th>\n",
       "      <th>age</th>\n",
       "    </tr>\n",
       "  </thead>\n",
       "  <tbody>\n",
       "    <tr>\n",
       "      <th>0</th>\n",
       "      <td>original</td>\n",
       "      <td>2</td>\n",
       "      <td>5</td>\n",
       "      <td>2</td>\n",
       "      <td>73</td>\n",
       "    </tr>\n",
       "    <tr>\n",
       "      <th>1</th>\n",
       "      <td>random</td>\n",
       "      <td>2</td>\n",
       "      <td>5</td>\n",
       "      <td>2</td>\n",
       "      <td>42</td>\n",
       "    </tr>\n",
       "    <tr>\n",
       "      <th>2</th>\n",
       "      <td>systematic</td>\n",
       "      <td>2</td>\n",
       "      <td>5</td>\n",
       "      <td>2</td>\n",
       "      <td>42</td>\n",
       "    </tr>\n",
       "    <tr>\n",
       "      <th>3</th>\n",
       "      <td>stratified</td>\n",
       "      <td>2</td>\n",
       "      <td>4</td>\n",
       "      <td>2</td>\n",
       "      <td>46</td>\n",
       "    </tr>\n",
       "    <tr>\n",
       "      <th>4</th>\n",
       "      <td>group</td>\n",
       "      <td>2</td>\n",
       "      <td>3</td>\n",
       "      <td>2</td>\n",
       "      <td>41</td>\n",
       "    </tr>\n",
       "    <tr>\n",
       "      <th>5</th>\n",
       "      <td>reservoir</td>\n",
       "      <td>2</td>\n",
       "      <td>5</td>\n",
       "      <td>2</td>\n",
       "      <td>44</td>\n",
       "    </tr>\n",
       "  </tbody>\n",
       "</table>\n",
       "</div>"
      ],
      "text/plain": [
       "       sample  income  race  sex  age\n",
       "0    original       2     5    2   73\n",
       "1      random       2     5    2   42\n",
       "2  systematic       2     5    2   42\n",
       "3  stratified       2     4    2   46\n",
       "4       group       2     3    2   41\n",
       "5   reservoir       2     5    2   44"
      ]
     },
     "execution_count": 37,
     "metadata": {},
     "output_type": "execute_result"
    }
   ],
   "source": [
    "count_unique_values_v2(df_census_data_subset,df_random_sample,df_systematic_sample,\n",
    "                    df_stratified_sample,df_group_sample,df_reservoir_sample)"
   ]
  },
  {
   "cell_type": "code",
   "execution_count": 38,
   "id": "1b68bfd5",
   "metadata": {},
   "outputs": [],
   "source": [
    "import inspect\n",
    "\n",
    "def retrieve_name(var):\n",
    "    '''this function inspects the local variables and returns the name of the given variable as a string'''\n",
    "    '''by scohe001, https://stackoverflow.com/questions/18425225, modified'''\n",
    "    callers_local_vars = inspect.currentframe().f_back.f_back.f_locals.items()\n",
    "    return [var_name for var_name, var_val in callers_local_vars if var_val is var][0]"
   ]
  },
  {
   "cell_type": "code",
   "execution_count": 39,
   "id": "4e372dd9",
   "metadata": {},
   "outputs": [],
   "source": [
    "def count_unique_values_v3(*argv: DataFrame) -> DataFrame:\n",
    "    df = pd.DataFrame()\n",
    "    dataset_mean = argv[0]['age'].mean()\n",
    "    for dataset in argv:\n",
    "        df_aux = pd.DataFrame([dataset.nunique()])\n",
    "        df_aux['Mean'] = dataset['age'].mean()\n",
    "        var = (dataset_mean - dataset['age'].mean())/dataset_mean\n",
    "        df_aux['Var'] = \"%2.2f%%\" % (var*100),\n",
    "        df_aux['Dataset'] = retrieve_name(dataset)\n",
    "        df = pd.concat([df, df_aux], ignore_index=True)\n",
    "    cols = list(df.columns)\n",
    "    colunas = cols[-1:] + cols[:-1]\n",
    "    return df[colunas]"
   ]
  },
  {
   "cell_type": "code",
   "execution_count": 40,
   "id": "b2d69f5e",
   "metadata": {},
   "outputs": [
    {
     "data": {
      "text/html": [
       "<div>\n",
       "<style scoped>\n",
       "    .dataframe tbody tr th:only-of-type {\n",
       "        vertical-align: middle;\n",
       "    }\n",
       "\n",
       "    .dataframe tbody tr th {\n",
       "        vertical-align: top;\n",
       "    }\n",
       "\n",
       "    .dataframe thead th {\n",
       "        text-align: right;\n",
       "    }\n",
       "</style>\n",
       "<table border=\"1\" class=\"dataframe\">\n",
       "  <thead>\n",
       "    <tr style=\"text-align: right;\">\n",
       "      <th></th>\n",
       "      <th>Dataset</th>\n",
       "      <th>income</th>\n",
       "      <th>race</th>\n",
       "      <th>sex</th>\n",
       "      <th>age</th>\n",
       "      <th>Mean</th>\n",
       "      <th>Var</th>\n",
       "    </tr>\n",
       "  </thead>\n",
       "  <tbody>\n",
       "    <tr>\n",
       "      <th>0</th>\n",
       "      <td>df_census_data_subset</td>\n",
       "      <td>2</td>\n",
       "      <td>5</td>\n",
       "      <td>2</td>\n",
       "      <td>73</td>\n",
       "      <td>38.581647</td>\n",
       "      <td>0.00%</td>\n",
       "    </tr>\n",
       "    <tr>\n",
       "      <th>1</th>\n",
       "      <td>df_random_sample</td>\n",
       "      <td>2</td>\n",
       "      <td>5</td>\n",
       "      <td>2</td>\n",
       "      <td>42</td>\n",
       "      <td>39.070000</td>\n",
       "      <td>-1.27%</td>\n",
       "    </tr>\n",
       "    <tr>\n",
       "      <th>2</th>\n",
       "      <td>df_systematic_sample</td>\n",
       "      <td>2</td>\n",
       "      <td>5</td>\n",
       "      <td>2</td>\n",
       "      <td>42</td>\n",
       "      <td>37.880000</td>\n",
       "      <td>1.82%</td>\n",
       "    </tr>\n",
       "    <tr>\n",
       "      <th>3</th>\n",
       "      <td>df_stratified_sample</td>\n",
       "      <td>2</td>\n",
       "      <td>4</td>\n",
       "      <td>2</td>\n",
       "      <td>46</td>\n",
       "      <td>41.310000</td>\n",
       "      <td>-7.07%</td>\n",
       "    </tr>\n",
       "    <tr>\n",
       "      <th>4</th>\n",
       "      <td>df_group_sample</td>\n",
       "      <td>2</td>\n",
       "      <td>3</td>\n",
       "      <td>2</td>\n",
       "      <td>41</td>\n",
       "      <td>38.570000</td>\n",
       "      <td>0.03%</td>\n",
       "    </tr>\n",
       "    <tr>\n",
       "      <th>5</th>\n",
       "      <td>df_reservoir_sample</td>\n",
       "      <td>2</td>\n",
       "      <td>5</td>\n",
       "      <td>2</td>\n",
       "      <td>44</td>\n",
       "      <td>36.990000</td>\n",
       "      <td>4.13%</td>\n",
       "    </tr>\n",
       "  </tbody>\n",
       "</table>\n",
       "</div>"
      ],
      "text/plain": [
       "                 Dataset  income  race  sex  age       Mean     Var\n",
       "0  df_census_data_subset       2     5    2   73  38.581647   0.00%\n",
       "1       df_random_sample       2     5    2   42  39.070000  -1.27%\n",
       "2   df_systematic_sample       2     5    2   42  37.880000   1.82%\n",
       "3   df_stratified_sample       2     4    2   46  41.310000  -7.07%\n",
       "4        df_group_sample       2     3    2   41  38.570000   0.03%\n",
       "5    df_reservoir_sample       2     5    2   44  36.990000   4.13%"
      ]
     },
     "execution_count": 40,
     "metadata": {},
     "output_type": "execute_result"
    }
   ],
   "source": [
    "count_unique_values_v3(df_census_data_subset,df_random_sample,df_systematic_sample,\n",
    "                    df_stratified_sample,df_group_sample,df_reservoir_sample)"
   ]
  },
  {
   "cell_type": "code",
   "execution_count": 41,
   "id": "a7b48da9",
   "metadata": {},
   "outputs": [],
   "source": [
    "def sampled_mean_and_standdev(dataset: DataFrame, m = 100 ):\n",
    "    n = round(len(dataset)/100)\n",
    "    sum_mean = 0\n",
    "    sum_stand_dev = 0\n",
    "    for i in range(0,m):\n",
    "        df = dataset.sample(n)\n",
    "        sum_mean += df.mean()\n",
    "        sum_stand_dev += df.std()\n",
    "    return sum_mean/m, sum_stand_dev/m"
   ]
  },
  {
   "cell_type": "code",
   "execution_count": 42,
   "id": "2f4717c7",
   "metadata": {},
   "outputs": [
    {
     "data": {
      "text/plain": [
       "(38.53609509202453, 13.655468268964349)"
      ]
     },
     "execution_count": 42,
     "metadata": {},
     "output_type": "execute_result"
    }
   ],
   "source": [
    "sampled_mean_and_standdev(df_census_data_subset['age'], 1000)"
   ]
  },
  {
   "cell_type": "code",
   "execution_count": 43,
   "id": "323133ce",
   "metadata": {},
   "outputs": [],
   "source": [
    "def sample_size(dataset: DataFrame, z: float, e: float):\n",
    "    '''\n",
    "    80% -> 1,28\n",
    "    85% -> 1,44\n",
    "    90% -> 1,65\n",
    "    95% -> 1,96\n",
    "    99% -> 2,58\n",
    "    '''\n",
    "    mean, stand_dev = sampled_mean_and_standdev(dataset)\n",
    "    E = mean*e\n",
    "    n = (z*stand_dev/E)**2\n",
    "    return print(round(n), mean, stand_dev, E, n)"
   ]
  },
  {
   "cell_type": "code",
   "execution_count": 44,
   "id": "af39fb49",
   "metadata": {},
   "outputs": [
    {
     "name": "stdout",
     "output_type": "stream",
     "text": [
      "191 38.630276073619626 13.611573904477877 1.9315138036809814 190.7801567789219\n"
     ]
    }
   ],
   "source": [
    "sample_size(df_census_data_subset['age'],1.96,0.05)"
   ]
  },
  {
   "cell_type": "code",
   "execution_count": 45,
   "id": "6fded4be",
   "metadata": {},
   "outputs": [],
   "source": [
    "df_random_sample_v2 = random_sampling(df_census_data_subset, 200)\n",
    "df_systematic_sample_v2 = systematic_sampling(df_census_data_subset, 200)\n",
    "df_stratified_sample_v2 = stratified_sampling(df_census_data_subset, (200 / len(df_census_data_subset)))\n",
    "df_group_sample_v2 = group_sampling(df_census_data_subset, round(len(df_census_data_subset) / 200))\n",
    "df_reservoir_sample_v2 = reservoir_sampling(df_census_data_subset, 200)"
   ]
  },
  {
   "cell_type": "code",
   "execution_count": 46,
   "id": "1a0e3891",
   "metadata": {},
   "outputs": [
    {
     "data": {
      "text/html": [
       "<div>\n",
       "<style scoped>\n",
       "    .dataframe tbody tr th:only-of-type {\n",
       "        vertical-align: middle;\n",
       "    }\n",
       "\n",
       "    .dataframe tbody tr th {\n",
       "        vertical-align: top;\n",
       "    }\n",
       "\n",
       "    .dataframe thead th {\n",
       "        text-align: right;\n",
       "    }\n",
       "</style>\n",
       "<table border=\"1\" class=\"dataframe\">\n",
       "  <thead>\n",
       "    <tr style=\"text-align: right;\">\n",
       "      <th></th>\n",
       "      <th>Dataset</th>\n",
       "      <th>income</th>\n",
       "      <th>race</th>\n",
       "      <th>sex</th>\n",
       "      <th>age</th>\n",
       "      <th>Mean</th>\n",
       "      <th>Var</th>\n",
       "    </tr>\n",
       "  </thead>\n",
       "  <tbody>\n",
       "    <tr>\n",
       "      <th>0</th>\n",
       "      <td>df_census_data_subset</td>\n",
       "      <td>2</td>\n",
       "      <td>5</td>\n",
       "      <td>2</td>\n",
       "      <td>73</td>\n",
       "      <td>38.581647</td>\n",
       "      <td>0.00%</td>\n",
       "    </tr>\n",
       "    <tr>\n",
       "      <th>1</th>\n",
       "      <td>df_random_sample_v2</td>\n",
       "      <td>2</td>\n",
       "      <td>5</td>\n",
       "      <td>2</td>\n",
       "      <td>53</td>\n",
       "      <td>37.090000</td>\n",
       "      <td>3.87%</td>\n",
       "    </tr>\n",
       "    <tr>\n",
       "      <th>2</th>\n",
       "      <td>df_systematic_sample_v2</td>\n",
       "      <td>2</td>\n",
       "      <td>5</td>\n",
       "      <td>2</td>\n",
       "      <td>55</td>\n",
       "      <td>37.955224</td>\n",
       "      <td>1.62%</td>\n",
       "    </tr>\n",
       "    <tr>\n",
       "      <th>3</th>\n",
       "      <td>df_stratified_sample_v2</td>\n",
       "      <td>2</td>\n",
       "      <td>4</td>\n",
       "      <td>2</td>\n",
       "      <td>53</td>\n",
       "      <td>39.190000</td>\n",
       "      <td>-1.58%</td>\n",
       "    </tr>\n",
       "    <tr>\n",
       "      <th>4</th>\n",
       "      <td>df_group_sample_v2</td>\n",
       "      <td>2</td>\n",
       "      <td>5</td>\n",
       "      <td>2</td>\n",
       "      <td>54</td>\n",
       "      <td>37.780000</td>\n",
       "      <td>2.08%</td>\n",
       "    </tr>\n",
       "    <tr>\n",
       "      <th>5</th>\n",
       "      <td>df_reservoir_sample_v2</td>\n",
       "      <td>2</td>\n",
       "      <td>5</td>\n",
       "      <td>2</td>\n",
       "      <td>57</td>\n",
       "      <td>39.575000</td>\n",
       "      <td>-2.57%</td>\n",
       "    </tr>\n",
       "  </tbody>\n",
       "</table>\n",
       "</div>"
      ],
      "text/plain": [
       "                   Dataset  income  race  sex  age       Mean     Var\n",
       "0    df_census_data_subset       2     5    2   73  38.581647   0.00%\n",
       "1      df_random_sample_v2       2     5    2   53  37.090000   3.87%\n",
       "2  df_systematic_sample_v2       2     5    2   55  37.955224   1.62%\n",
       "3  df_stratified_sample_v2       2     4    2   53  39.190000  -1.58%\n",
       "4       df_group_sample_v2       2     5    2   54  37.780000   2.08%\n",
       "5   df_reservoir_sample_v2       2     5    2   57  39.575000  -2.57%"
      ]
     },
     "execution_count": 46,
     "metadata": {},
     "output_type": "execute_result"
    }
   ],
   "source": [
    "count_unique_values_v3(df_census_data_subset,df_random_sample_v2,df_systematic_sample_v2,\n",
    "                    df_stratified_sample_v2,df_group_sample_v2,df_reservoir_sample_v2)"
   ]
  },
  {
   "cell_type": "code",
   "execution_count": 47,
   "id": "a135d237",
   "metadata": {},
   "outputs": [
    {
     "name": "stdout",
     "output_type": "stream",
     "text": [
      "332 38.55018404907973 13.62045815694944 1.9275092024539866 332.37620460292743\n"
     ]
    }
   ],
   "source": [
    "sample_size(df_census_data_subset['age'],2.58,0.05)"
   ]
  },
  {
   "cell_type": "code",
   "execution_count": 48,
   "id": "e21b71fd",
   "metadata": {},
   "outputs": [],
   "source": [
    "df_random_sample_v3 = random_sampling(df_census_data_subset, 350)\n",
    "df_systematic_sample_v3 = systematic_sampling(df_census_data_subset, 350)\n",
    "df_stratified_sample_v3 = stratified_sampling(df_census_data_subset, (350 / len(df_census_data_subset)))\n",
    "df_group_sample_v3 = group_sampling(df_census_data_subset, round(len(df_census_data_subset) / 350))\n",
    "df_reservoir_sample_v3 = reservoir_sampling(df_census_data_subset, 350)"
   ]
  },
  {
   "cell_type": "code",
   "execution_count": 49,
   "id": "215935bf",
   "metadata": {},
   "outputs": [
    {
     "data": {
      "text/html": [
       "<div>\n",
       "<style scoped>\n",
       "    .dataframe tbody tr th:only-of-type {\n",
       "        vertical-align: middle;\n",
       "    }\n",
       "\n",
       "    .dataframe tbody tr th {\n",
       "        vertical-align: top;\n",
       "    }\n",
       "\n",
       "    .dataframe thead th {\n",
       "        text-align: right;\n",
       "    }\n",
       "</style>\n",
       "<table border=\"1\" class=\"dataframe\">\n",
       "  <thead>\n",
       "    <tr style=\"text-align: right;\">\n",
       "      <th></th>\n",
       "      <th>Dataset</th>\n",
       "      <th>income</th>\n",
       "      <th>race</th>\n",
       "      <th>sex</th>\n",
       "      <th>age</th>\n",
       "      <th>Mean</th>\n",
       "      <th>Var</th>\n",
       "    </tr>\n",
       "  </thead>\n",
       "  <tbody>\n",
       "    <tr>\n",
       "      <th>0</th>\n",
       "      <td>df_census_data_subset</td>\n",
       "      <td>2</td>\n",
       "      <td>5</td>\n",
       "      <td>2</td>\n",
       "      <td>73</td>\n",
       "      <td>38.581647</td>\n",
       "      <td>0.00%</td>\n",
       "    </tr>\n",
       "    <tr>\n",
       "      <th>1</th>\n",
       "      <td>df_random_sample_v3</td>\n",
       "      <td>2</td>\n",
       "      <td>5</td>\n",
       "      <td>2</td>\n",
       "      <td>58</td>\n",
       "      <td>38.688571</td>\n",
       "      <td>-0.28%</td>\n",
       "    </tr>\n",
       "    <tr>\n",
       "      <th>2</th>\n",
       "      <td>df_systematic_sample_v3</td>\n",
       "      <td>2</td>\n",
       "      <td>5</td>\n",
       "      <td>2</td>\n",
       "      <td>57</td>\n",
       "      <td>38.282857</td>\n",
       "      <td>0.77%</td>\n",
       "    </tr>\n",
       "    <tr>\n",
       "      <th>3</th>\n",
       "      <td>df_stratified_sample_v3</td>\n",
       "      <td>2</td>\n",
       "      <td>5</td>\n",
       "      <td>2</td>\n",
       "      <td>57</td>\n",
       "      <td>37.500000</td>\n",
       "      <td>2.80%</td>\n",
       "    </tr>\n",
       "    <tr>\n",
       "      <th>4</th>\n",
       "      <td>df_group_sample_v3</td>\n",
       "      <td>2</td>\n",
       "      <td>5</td>\n",
       "      <td>2</td>\n",
       "      <td>54</td>\n",
       "      <td>38.749288</td>\n",
       "      <td>-0.43%</td>\n",
       "    </tr>\n",
       "    <tr>\n",
       "      <th>5</th>\n",
       "      <td>df_reservoir_sample_v3</td>\n",
       "      <td>2</td>\n",
       "      <td>5</td>\n",
       "      <td>2</td>\n",
       "      <td>57</td>\n",
       "      <td>38.054286</td>\n",
       "      <td>1.37%</td>\n",
       "    </tr>\n",
       "  </tbody>\n",
       "</table>\n",
       "</div>"
      ],
      "text/plain": [
       "                   Dataset  income  race  sex  age       Mean     Var\n",
       "0    df_census_data_subset       2     5    2   73  38.581647   0.00%\n",
       "1      df_random_sample_v3       2     5    2   58  38.688571  -0.28%\n",
       "2  df_systematic_sample_v3       2     5    2   57  38.282857   0.77%\n",
       "3  df_stratified_sample_v3       2     5    2   57  37.500000   2.80%\n",
       "4       df_group_sample_v3       2     5    2   54  38.749288  -0.43%\n",
       "5   df_reservoir_sample_v3       2     5    2   57  38.054286   1.37%"
      ]
     },
     "execution_count": 49,
     "metadata": {},
     "output_type": "execute_result"
    }
   ],
   "source": [
    "count_unique_values_v3(df_census_data_subset,df_random_sample_v3,df_systematic_sample_v3,\n",
    "                    df_stratified_sample_v3,df_group_sample_v3,df_reservoir_sample_v3)"
   ]
  },
  {
   "cell_type": "code",
   "execution_count": 50,
   "id": "70f339ff",
   "metadata": {},
   "outputs": [
    {
     "name": "stderr",
     "output_type": "stream",
     "text": [
      "C:\\Users\\natferna5\\AppData\\Local\\Temp\\ipykernel_14176\\4183236942.py:1: SettingWithCopyWarning: \n",
      "A value is trying to be set on a copy of a slice from a DataFrame.\n",
      "Try using .loc[row_indexer,col_indexer] = value instead\n",
      "\n",
      "See the caveats in the documentation: https://pandas.pydata.org/pandas-docs/stable/user_guide/indexing.html#returning-a-view-versus-a-copy\n",
      "  df_census_data_subset['key'] = df_census_data_subset[['income','race','sex']].astype(str).agg('@'.join, axis=1)\n"
     ]
    }
   ],
   "source": [
    "df_census_data_subset['key'] = df_census_data_subset[['income','race','sex']].astype(str).agg('@'.join, axis=1)"
   ]
  },
  {
   "cell_type": "code",
   "execution_count": 51,
   "id": "41611ea7",
   "metadata": {},
   "outputs": [
    {
     "data": {
      "text/plain": [
       "0           <=50K@ White@ Male\n",
       "1           <=50K@ White@ Male\n",
       "2           <=50K@ White@ Male\n",
       "3           <=50K@ Black@ Male\n",
       "4         <=50K@ Black@ Female\n",
       "                 ...          \n",
       "32556     <=50K@ White@ Female\n",
       "32557        >50K@ White@ Male\n",
       "32558     <=50K@ White@ Female\n",
       "32559       <=50K@ White@ Male\n",
       "32560      >50K@ White@ Female\n",
       "Name: key, Length: 32561, dtype: object"
      ]
     },
     "execution_count": 51,
     "metadata": {},
     "output_type": "execute_result"
    }
   ],
   "source": [
    "df_census_data_subset['key']"
   ]
  },
  {
   "cell_type": "code",
   "execution_count": 52,
   "id": "01aeed6e",
   "metadata": {},
   "outputs": [],
   "source": [
    "def stratified_sampling(dataset: DataFrame, percentage: float) -> DataFrame:\n",
    "    ''' first, we set the splt based on the desired relative sample size;\n",
    "        then, we split the dataset based upon a column of our choice'''\n",
    "    split = StratifiedShuffleSplit(test_size=percentage)\n",
    "    for _, y in split.split(dataset, dataset['key']):\n",
    "        df_y = dataset.iloc[y]\n",
    "    return df_y"
   ]
  },
  {
   "cell_type": "code",
   "execution_count": 53,
   "id": "90470440",
   "metadata": {},
   "outputs": [],
   "source": [
    "df_random_sample_v4 = random_sampling(df_census_data_subset, 350)\n",
    "df_systematic_sample_v4 = systematic_sampling(df_census_data_subset, 350)\n",
    "df_stratified_sample_v4 = stratified_sampling(df_census_data_subset, (350 / len(df_census_data_subset)))\n",
    "df_group_sample_v4 = group_sampling(df_census_data_subset, round(len(df_census_data_subset) / 350))\n",
    "df_reservoir_sample_v4 = reservoir_sampling(df_census_data_subset, 350)"
   ]
  },
  {
   "cell_type": "code",
   "execution_count": 54,
   "id": "ee71e708",
   "metadata": {},
   "outputs": [
    {
     "data": {
      "text/html": [
       "<div>\n",
       "<style scoped>\n",
       "    .dataframe tbody tr th:only-of-type {\n",
       "        vertical-align: middle;\n",
       "    }\n",
       "\n",
       "    .dataframe tbody tr th {\n",
       "        vertical-align: top;\n",
       "    }\n",
       "\n",
       "    .dataframe thead th {\n",
       "        text-align: right;\n",
       "    }\n",
       "</style>\n",
       "<table border=\"1\" class=\"dataframe\">\n",
       "  <thead>\n",
       "    <tr style=\"text-align: right;\">\n",
       "      <th></th>\n",
       "      <th>Dataset</th>\n",
       "      <th>income</th>\n",
       "      <th>race</th>\n",
       "      <th>sex</th>\n",
       "      <th>age</th>\n",
       "      <th>key</th>\n",
       "      <th>Mean</th>\n",
       "      <th>Var</th>\n",
       "    </tr>\n",
       "  </thead>\n",
       "  <tbody>\n",
       "    <tr>\n",
       "      <th>0</th>\n",
       "      <td>df_census_data_subset</td>\n",
       "      <td>2</td>\n",
       "      <td>5</td>\n",
       "      <td>2</td>\n",
       "      <td>73</td>\n",
       "      <td>20</td>\n",
       "      <td>38.581647</td>\n",
       "      <td>0.00%</td>\n",
       "    </tr>\n",
       "    <tr>\n",
       "      <th>1</th>\n",
       "      <td>df_random_sample_v4</td>\n",
       "      <td>2</td>\n",
       "      <td>5</td>\n",
       "      <td>2</td>\n",
       "      <td>58</td>\n",
       "      <td>14</td>\n",
       "      <td>38.260000</td>\n",
       "      <td>0.83%</td>\n",
       "    </tr>\n",
       "    <tr>\n",
       "      <th>2</th>\n",
       "      <td>df_systematic_sample_v4</td>\n",
       "      <td>2</td>\n",
       "      <td>5</td>\n",
       "      <td>2</td>\n",
       "      <td>55</td>\n",
       "      <td>17</td>\n",
       "      <td>39.425714</td>\n",
       "      <td>-2.19%</td>\n",
       "    </tr>\n",
       "    <tr>\n",
       "      <th>3</th>\n",
       "      <td>df_stratified_sample_v4</td>\n",
       "      <td>2</td>\n",
       "      <td>5</td>\n",
       "      <td>2</td>\n",
       "      <td>58</td>\n",
       "      <td>15</td>\n",
       "      <td>38.960000</td>\n",
       "      <td>-0.98%</td>\n",
       "    </tr>\n",
       "    <tr>\n",
       "      <th>4</th>\n",
       "      <td>df_group_sample_v4</td>\n",
       "      <td>2</td>\n",
       "      <td>5</td>\n",
       "      <td>2</td>\n",
       "      <td>58</td>\n",
       "      <td>15</td>\n",
       "      <td>38.401709</td>\n",
       "      <td>0.47%</td>\n",
       "    </tr>\n",
       "    <tr>\n",
       "      <th>5</th>\n",
       "      <td>df_reservoir_sample_v4</td>\n",
       "      <td>2</td>\n",
       "      <td>4</td>\n",
       "      <td>2</td>\n",
       "      <td>59</td>\n",
       "      <td>14</td>\n",
       "      <td>39.065714</td>\n",
       "      <td>-1.25%</td>\n",
       "    </tr>\n",
       "  </tbody>\n",
       "</table>\n",
       "</div>"
      ],
      "text/plain": [
       "                   Dataset  income  race  sex  age  key       Mean     Var\n",
       "0    df_census_data_subset       2     5    2   73   20  38.581647   0.00%\n",
       "1      df_random_sample_v4       2     5    2   58   14  38.260000   0.83%\n",
       "2  df_systematic_sample_v4       2     5    2   55   17  39.425714  -2.19%\n",
       "3  df_stratified_sample_v4       2     5    2   58   15  38.960000  -0.98%\n",
       "4       df_group_sample_v4       2     5    2   58   15  38.401709   0.47%\n",
       "5   df_reservoir_sample_v4       2     4    2   59   14  39.065714  -1.25%"
      ]
     },
     "execution_count": 54,
     "metadata": {},
     "output_type": "execute_result"
    }
   ],
   "source": [
    "count_unique_values_v3(df_census_data_subset,df_random_sample_v4,df_systematic_sample_v4,\n",
    "                    df_stratified_sample_v4,df_group_sample_v4,df_reservoir_sample_v4)"
   ]
  },
  {
   "cell_type": "code",
   "execution_count": 55,
   "id": "9cf26a68",
   "metadata": {},
   "outputs": [],
   "source": [
    "def count_unique_values_v4(*argv: DataFrame) -> DataFrame:\n",
    "    df = pd.DataFrame()\n",
    "    dataset_mean = argv[0]['age'].mean()\n",
    "    for dataset in argv:\n",
    "        df_aux = pd.DataFrame([dataset.nunique()])\n",
    "        df_aux['mean'] = dataset['age'].mean()\n",
    "        df_aux['var'] = ((dataset_mean - dataset['age'].mean())/dataset_mean)\n",
    "        df_aux['dataset'] = retrieve_name(dataset)\n",
    "        df = pd.concat([df, df_aux], ignore_index=True)\n",
    "    cols = list(df.columns)\n",
    "    colunas = cols[-1:] + cols[:-1]\n",
    "    return df[colunas].set_index('dataset')"
   ]
  },
  {
   "cell_type": "code",
   "execution_count": 56,
   "id": "1ce0c8c2",
   "metadata": {},
   "outputs": [
    {
     "name": "stdout",
     "output_type": "stream",
     "text": [
      "                         income  race  sex  age  key       mean       var\n",
      "dataset                                                                  \n",
      "df_census_data_subset         2     5    2   73   20  38.581647  0.000000\n",
      "df_random_sample_v4           2     5    2   58   14  38.260000  0.008337\n",
      "df_systematic_sample_v4       2     5    2   55   17  39.425714 -0.021877\n",
      "df_stratified_sample_v4       2     5    2   58   15  38.960000 -0.009807\n",
      "df_group_sample_v4            2     5    2   58   15  38.401709  0.004664\n",
      "df_reservoir_sample_v4        2     4    2   59   14  39.065714 -0.012547\n"
     ]
    }
   ],
   "source": [
    "df = count_unique_values_v4(df_census_data_subset,df_random_sample_v4,df_systematic_sample_v4,\n",
    "               df_stratified_sample_v4,df_group_sample_v4,df_reservoir_sample_v4)\n",
    "\n",
    "print(df)"
   ]
  },
  {
   "cell_type": "code",
   "execution_count": 57,
   "id": "1e42edeb",
   "metadata": {},
   "outputs": [],
   "source": [
    "dfs = {}\n",
    "for i in range(4):\n",
    "    dfs[i] = count_unique_values_v4(df_census_data_subset,df_random_sample_v4,df_systematic_sample_v4,\n",
    "                                    df_stratified_sample_v4,df_group_sample_v4,df_reservoir_sample_v4)"
   ]
  },
  {
   "cell_type": "code",
   "execution_count": 58,
   "id": "0399bf56",
   "metadata": {},
   "outputs": [],
   "source": [
    "df_names = []\n",
    "for i in dfs.keys():\n",
    "    temp_df = dfs[i]\n",
    "    df_names.append(temp_df)\n",
    "\n",
    "df = pd.concat(df_names)"
   ]
  },
  {
   "cell_type": "code",
   "execution_count": 59,
   "id": "a0f76374",
   "metadata": {},
   "outputs": [
    {
     "data": {
      "text/html": [
       "<div>\n",
       "<style scoped>\n",
       "    .dataframe tbody tr th:only-of-type {\n",
       "        vertical-align: middle;\n",
       "    }\n",
       "\n",
       "    .dataframe tbody tr th {\n",
       "        vertical-align: top;\n",
       "    }\n",
       "\n",
       "    .dataframe thead th {\n",
       "        text-align: right;\n",
       "    }\n",
       "</style>\n",
       "<table border=\"1\" class=\"dataframe\">\n",
       "  <thead>\n",
       "    <tr style=\"text-align: right;\">\n",
       "      <th></th>\n",
       "      <th>income</th>\n",
       "      <th>race</th>\n",
       "      <th>sex</th>\n",
       "      <th>age</th>\n",
       "      <th>key</th>\n",
       "      <th>mean</th>\n",
       "      <th>var</th>\n",
       "    </tr>\n",
       "    <tr>\n",
       "      <th>dataset</th>\n",
       "      <th></th>\n",
       "      <th></th>\n",
       "      <th></th>\n",
       "      <th></th>\n",
       "      <th></th>\n",
       "      <th></th>\n",
       "      <th></th>\n",
       "    </tr>\n",
       "  </thead>\n",
       "  <tbody>\n",
       "    <tr>\n",
       "      <th>df_census_data_subset</th>\n",
       "      <td>2.0</td>\n",
       "      <td>5.0</td>\n",
       "      <td>2.0</td>\n",
       "      <td>73.0</td>\n",
       "      <td>20.0</td>\n",
       "      <td>38.581647</td>\n",
       "      <td>0.000000</td>\n",
       "    </tr>\n",
       "    <tr>\n",
       "      <th>df_group_sample_v4</th>\n",
       "      <td>2.0</td>\n",
       "      <td>5.0</td>\n",
       "      <td>2.0</td>\n",
       "      <td>58.0</td>\n",
       "      <td>15.0</td>\n",
       "      <td>38.401709</td>\n",
       "      <td>0.004664</td>\n",
       "    </tr>\n",
       "    <tr>\n",
       "      <th>df_random_sample_v4</th>\n",
       "      <td>2.0</td>\n",
       "      <td>5.0</td>\n",
       "      <td>2.0</td>\n",
       "      <td>58.0</td>\n",
       "      <td>14.0</td>\n",
       "      <td>38.260000</td>\n",
       "      <td>0.008337</td>\n",
       "    </tr>\n",
       "    <tr>\n",
       "      <th>df_reservoir_sample_v4</th>\n",
       "      <td>2.0</td>\n",
       "      <td>4.0</td>\n",
       "      <td>2.0</td>\n",
       "      <td>59.0</td>\n",
       "      <td>14.0</td>\n",
       "      <td>39.065714</td>\n",
       "      <td>-0.012547</td>\n",
       "    </tr>\n",
       "    <tr>\n",
       "      <th>df_stratified_sample_v4</th>\n",
       "      <td>2.0</td>\n",
       "      <td>5.0</td>\n",
       "      <td>2.0</td>\n",
       "      <td>58.0</td>\n",
       "      <td>15.0</td>\n",
       "      <td>38.960000</td>\n",
       "      <td>-0.009807</td>\n",
       "    </tr>\n",
       "    <tr>\n",
       "      <th>df_systematic_sample_v4</th>\n",
       "      <td>2.0</td>\n",
       "      <td>5.0</td>\n",
       "      <td>2.0</td>\n",
       "      <td>55.0</td>\n",
       "      <td>17.0</td>\n",
       "      <td>39.425714</td>\n",
       "      <td>-0.021877</td>\n",
       "    </tr>\n",
       "  </tbody>\n",
       "</table>\n",
       "</div>"
      ],
      "text/plain": [
       "                         income  race  sex   age   key       mean       var\n",
       "dataset                                                                    \n",
       "df_census_data_subset       2.0   5.0  2.0  73.0  20.0  38.581647  0.000000\n",
       "df_group_sample_v4          2.0   5.0  2.0  58.0  15.0  38.401709  0.004664\n",
       "df_random_sample_v4         2.0   5.0  2.0  58.0  14.0  38.260000  0.008337\n",
       "df_reservoir_sample_v4      2.0   4.0  2.0  59.0  14.0  39.065714 -0.012547\n",
       "df_stratified_sample_v4     2.0   5.0  2.0  58.0  15.0  38.960000 -0.009807\n",
       "df_systematic_sample_v4     2.0   5.0  2.0  55.0  17.0  39.425714 -0.021877"
      ]
     },
     "execution_count": 59,
     "metadata": {},
     "output_type": "execute_result"
    }
   ],
   "source": [
    "df.groupby(level=0).mean()"
   ]
  },
  {
   "cell_type": "code",
   "execution_count": 60,
   "id": "5589a681",
   "metadata": {},
   "outputs": [],
   "source": [
    "def sampling_comparison(dataset: DataFrame, sample_size = 100, times = 100) -> DataFrame:\n",
    "    dfs = {}\n",
    "    for i in range(0,times):\n",
    "        #get one sample of each type every time the loop restarts\n",
    "        df_random_sample = random_sampling(dataset, sample_size)\n",
    "        df_systematic_sample = systematic_sampling(dataset, sample_size)\n",
    "        df_stratified_sample = stratified_sampling(dataset, (sample_size / len(dataset)))\n",
    "        df_group_sample = group_sampling(dataset, round(len(dataset) / sample_size))\n",
    "        df_reservoir_sample = reservoir_sampling(dataset, sample_size)\n",
    "        \n",
    "        dfs[i] = count_unique_values_v4(dataset,df_random_sample,df_systematic_sample,\n",
    "                                   df_stratified_sample,df_group_sample,df_reservoir_sample)\n",
    "    df_names = []\n",
    "    for i in dfs.keys():\n",
    "        temp_df = dfs[i]\n",
    "        df_names.append(temp_df)\n",
    "    df = pd.concat(df_names)\n",
    "    #df.groupby(level=0).mean()\n",
    "    return df.groupby(level=0).mean()"
   ]
  },
  {
   "cell_type": "code",
   "execution_count": 61,
   "id": "43081ca3",
   "metadata": {},
   "outputs": [],
   "source": [
    "df = sampling_comparison(df_census_data_subset, 350, 100)"
   ]
  },
  {
   "cell_type": "code",
   "execution_count": 62,
   "id": "9fb38a99",
   "metadata": {},
   "outputs": [
    {
     "data": {
      "text/html": [
       "<style type=\"text/css\">\n",
       "</style>\n",
       "<table id=\"T_a6704\">\n",
       "  <thead>\n",
       "    <tr>\n",
       "      <th class=\"blank level0\" >&nbsp;</th>\n",
       "      <th id=\"T_a6704_level0_col0\" class=\"col_heading level0 col0\" >income</th>\n",
       "      <th id=\"T_a6704_level0_col1\" class=\"col_heading level0 col1\" >race</th>\n",
       "      <th id=\"T_a6704_level0_col2\" class=\"col_heading level0 col2\" >sex</th>\n",
       "      <th id=\"T_a6704_level0_col3\" class=\"col_heading level0 col3\" >age</th>\n",
       "      <th id=\"T_a6704_level0_col4\" class=\"col_heading level0 col4\" >key</th>\n",
       "      <th id=\"T_a6704_level0_col5\" class=\"col_heading level0 col5\" >mean</th>\n",
       "      <th id=\"T_a6704_level0_col6\" class=\"col_heading level0 col6\" >var</th>\n",
       "    </tr>\n",
       "    <tr>\n",
       "      <th class=\"index_name level0\" >dataset</th>\n",
       "      <th class=\"blank col0\" >&nbsp;</th>\n",
       "      <th class=\"blank col1\" >&nbsp;</th>\n",
       "      <th class=\"blank col2\" >&nbsp;</th>\n",
       "      <th class=\"blank col3\" >&nbsp;</th>\n",
       "      <th class=\"blank col4\" >&nbsp;</th>\n",
       "      <th class=\"blank col5\" >&nbsp;</th>\n",
       "      <th class=\"blank col6\" >&nbsp;</th>\n",
       "    </tr>\n",
       "  </thead>\n",
       "  <tbody>\n",
       "    <tr>\n",
       "      <th id=\"T_a6704_level0_row0\" class=\"row_heading level0 row0\" >dataset</th>\n",
       "      <td id=\"T_a6704_row0_col0\" class=\"data row0 col0\" >2</td>\n",
       "      <td id=\"T_a6704_row0_col1\" class=\"data row0 col1\" >5</td>\n",
       "      <td id=\"T_a6704_row0_col2\" class=\"data row0 col2\" >2</td>\n",
       "      <td id=\"T_a6704_row0_col3\" class=\"data row0 col3\" >73</td>\n",
       "      <td id=\"T_a6704_row0_col4\" class=\"data row0 col4\" >20</td>\n",
       "      <td id=\"T_a6704_row0_col5\" class=\"data row0 col5\" >38.58</td>\n",
       "      <td id=\"T_a6704_row0_col6\" class=\"data row0 col6\" >0.00%</td>\n",
       "    </tr>\n",
       "    <tr>\n",
       "      <th id=\"T_a6704_level0_row1\" class=\"row_heading level0 row1\" >df_group_sample</th>\n",
       "      <td id=\"T_a6704_row1_col0\" class=\"data row1 col0\" >2</td>\n",
       "      <td id=\"T_a6704_row1_col1\" class=\"data row1 col1\" >5</td>\n",
       "      <td id=\"T_a6704_row1_col2\" class=\"data row1 col2\" >2</td>\n",
       "      <td id=\"T_a6704_row1_col3\" class=\"data row1 col3\" >57</td>\n",
       "      <td id=\"T_a6704_row1_col4\" class=\"data row1 col4\" >14</td>\n",
       "      <td id=\"T_a6704_row1_col5\" class=\"data row1 col5\" >38.49</td>\n",
       "      <td id=\"T_a6704_row1_col6\" class=\"data row1 col6\" >0.23%</td>\n",
       "    </tr>\n",
       "    <tr>\n",
       "      <th id=\"T_a6704_level0_row2\" class=\"row_heading level0 row2\" >df_random_sample</th>\n",
       "      <td id=\"T_a6704_row2_col0\" class=\"data row2 col0\" >2</td>\n",
       "      <td id=\"T_a6704_row2_col1\" class=\"data row2 col1\" >5</td>\n",
       "      <td id=\"T_a6704_row2_col2\" class=\"data row2 col2\" >2</td>\n",
       "      <td id=\"T_a6704_row2_col3\" class=\"data row2 col3\" >57</td>\n",
       "      <td id=\"T_a6704_row2_col4\" class=\"data row2 col4\" >14</td>\n",
       "      <td id=\"T_a6704_row2_col5\" class=\"data row2 col5\" >38.58</td>\n",
       "      <td id=\"T_a6704_row2_col6\" class=\"data row2 col6\" >0.01%</td>\n",
       "    </tr>\n",
       "    <tr>\n",
       "      <th id=\"T_a6704_level0_row3\" class=\"row_heading level0 row3\" >df_reservoir_sample</th>\n",
       "      <td id=\"T_a6704_row3_col0\" class=\"data row3 col0\" >2</td>\n",
       "      <td id=\"T_a6704_row3_col1\" class=\"data row3 col1\" >5</td>\n",
       "      <td id=\"T_a6704_row3_col2\" class=\"data row3 col2\" >2</td>\n",
       "      <td id=\"T_a6704_row3_col3\" class=\"data row3 col3\" >57</td>\n",
       "      <td id=\"T_a6704_row3_col4\" class=\"data row3 col4\" >14</td>\n",
       "      <td id=\"T_a6704_row3_col5\" class=\"data row3 col5\" >38.61</td>\n",
       "      <td id=\"T_a6704_row3_col6\" class=\"data row3 col6\" >-0.06%</td>\n",
       "    </tr>\n",
       "    <tr>\n",
       "      <th id=\"T_a6704_level0_row4\" class=\"row_heading level0 row4\" >df_stratified_sample</th>\n",
       "      <td id=\"T_a6704_row4_col0\" class=\"data row4 col0\" >2</td>\n",
       "      <td id=\"T_a6704_row4_col1\" class=\"data row4 col1\" >5</td>\n",
       "      <td id=\"T_a6704_row4_col2\" class=\"data row4 col2\" >2</td>\n",
       "      <td id=\"T_a6704_row4_col3\" class=\"data row4 col3\" >57</td>\n",
       "      <td id=\"T_a6704_row4_col4\" class=\"data row4 col4\" >15</td>\n",
       "      <td id=\"T_a6704_row4_col5\" class=\"data row4 col5\" >38.60</td>\n",
       "      <td id=\"T_a6704_row4_col6\" class=\"data row4 col6\" >-0.05%</td>\n",
       "    </tr>\n",
       "    <tr>\n",
       "      <th id=\"T_a6704_level0_row5\" class=\"row_heading level0 row5\" >df_systematic_sample</th>\n",
       "      <td id=\"T_a6704_row5_col0\" class=\"data row5 col0\" >2</td>\n",
       "      <td id=\"T_a6704_row5_col1\" class=\"data row5 col1\" >5</td>\n",
       "      <td id=\"T_a6704_row5_col2\" class=\"data row5 col2\" >2</td>\n",
       "      <td id=\"T_a6704_row5_col3\" class=\"data row5 col3\" >56</td>\n",
       "      <td id=\"T_a6704_row5_col4\" class=\"data row5 col4\" >15</td>\n",
       "      <td id=\"T_a6704_row5_col5\" class=\"data row5 col5\" >38.49</td>\n",
       "      <td id=\"T_a6704_row5_col6\" class=\"data row5 col6\" >0.23%</td>\n",
       "    </tr>\n",
       "  </tbody>\n",
       "</table>\n"
      ],
      "text/plain": [
       "<pandas.io.formats.style.Styler at 0x1a718f9db80>"
      ]
     },
     "execution_count": 62,
     "metadata": {},
     "output_type": "execute_result"
    }
   ],
   "source": [
    "df_formated = df.style.format({\n",
    "    'income': '{:,.0f}'.format,\n",
    "    'race': '{:,.0f}'.format,\n",
    "    'sex': '{:,.0f}'.format,\n",
    "    'age': '{:,.0f}'.format,\n",
    "    'key': '{:,.0f}'.format,\n",
    "    'mean': '{:,.2f}'.format,\n",
    "    'var': '{:,.2%}'.format,\n",
    "})\n",
    "\n",
    "df_formated\n"
   ]
  }
 ],
 "metadata": {
  "kernelspec": {
   "display_name": "Python 3 (ipykernel)",
   "language": "python",
   "name": "python3"
  },
  "language_info": {
   "codemirror_mode": {
    "name": "ipython",
    "version": 3
   },
   "file_extension": ".py",
   "mimetype": "text/x-python",
   "name": "python",
   "nbconvert_exporter": "python",
   "pygments_lexer": "ipython3",
   "version": "3.9.7"
  }
 },
 "nbformat": 4,
 "nbformat_minor": 5
}
